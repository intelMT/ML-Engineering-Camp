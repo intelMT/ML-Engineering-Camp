{
 "cells": [
  {
   "cell_type": "code",
   "execution_count": 2,
   "id": "1ed59ec8",
   "metadata": {},
   "outputs": [],
   "source": [
    "import pickle\n",
    "import requests\n",
    "import warnings\n",
    "warnings.filterwarnings(\"ignore\")"
   ]
  },
  {
   "cell_type": "markdown",
   "id": "f54b0de7",
   "metadata": {},
   "source": [
    "---\n",
    "## Question 1\n",
    "\n",
    "* Install Pipenv\n",
    "* What's the version of pipenv you installed?\n",
    "* Use `--version` to find out\n",
    "---"
   ]
  },
  {
   "cell_type": "code",
   "execution_count": 3,
   "id": "1e08fd67",
   "metadata": {},
   "outputs": [
    {
     "name": "stdout",
     "output_type": "stream",
     "text": [
      "pipenv, version 2022.10.4\n",
      "\n"
     ]
    }
   ],
   "source": [
    "!pipenv --version"
   ]
  },
  {
   "cell_type": "markdown",
   "id": "3a87fdfe",
   "metadata": {},
   "source": [
    "---\n",
    "## Question 2\n",
    "\n",
    "* Use Pipenv to install Scikit-Learn version 1.0.2\n",
    "* What's the first hash for scikit-learn you get in Pipfile.lock?\n",
    "\n",
    "Note: you should create an empty folder for homework\n",
    "and do it there. \n",
    "\n",
    "The solution: pretty easy, use `pipenv ...` instead of `pip ...`"
   ]
  },
  {
   "cell_type": "markdown",
   "id": "611d9c13",
   "metadata": {},
   "source": [
    "---\n",
    "## Models\n",
    "\n",
    "We've prepared a dictionary vectorizer and a model.\n",
    "\n",
    "They were trained (roughly) using this code:\n",
    "\n",
    "```python\n",
    "features = ['reports', 'share', 'expenditure', 'owner']\n",
    "dicts = df[features].to_dict(orient='records')\n",
    "\n",
    "dv = DictVectorizer(sparse=False)\n",
    "X = dv.fit_transform(dicts)\n",
    "\n",
    "model = LogisticRegression(solver='liblinear').fit(X, y)\n",
    "```\n",
    "\n",
    "> **Note**: You don't need to train the model. This code is just for your reference.\n",
    "\n",
    "And then saved with Pickle. Download them:\n",
    "\n",
    "* [DictVectorizer](https://github.com/alexeygrigorev/mlbookcamp-code/blob/master/course-zoomcamp/cohorts/2022/05-deployment/homework/dv.bin?raw=true)\n",
    "* [LogisticRegression](https://github.com/alexeygrigorev/mlbookcamp-code/blob/master/course-zoomcamp/cohorts/2022/05-deployment/homework/model1.bin?raw=true)\n",
    "\n",
    "With `wget`:\n",
    "\n",
    "```bash\n",
    "PREFIX=https://raw.githubusercontent.com/alexeygrigorev/mlbookcamp-code/master/course-zoomcamp/cohorts/2022/05-deployment/homework\n",
    "wget $PREFIX/model1.bin\n",
    "wget $PREFIX/dv.bin\n",
    "```\n",
    "---\n",
    "\n",
    "## Question 3\n",
    "\n",
    "Let's use these models!\n",
    "\n",
    "* Write a script for loading these models with pickle\n",
    "* Score this client:\n",
    "\n",
    "```json\n",
    "{\"reports\": 0, \"share\": 0.001694, \"expenditure\": 0.12, \"owner\": \"yes\"}\n",
    "```\n",
    "\n",
    "What's the probability that this client will get a credit card? \n",
    "\n",
    "* 0.162\n",
    "* 0.391\n",
    "* 0.601\n",
    "* 0.993\n",
    "\n",
    "If you're getting errors when unpickling the files, check their checksum:\n",
    "\n",
    "```bash\n",
    "$ md5sum model1.bin dv.bin\n",
    "3f57f3ebfdf57a9e1368dcd0f28a4a14  model1.bin\n",
    "6b7cded86a52af7e81859647fa3a5c2e  dv.bin\n",
    "```\n",
    "---"
   ]
  },
  {
   "cell_type": "code",
   "execution_count": 4,
   "id": "52c649e7",
   "metadata": {},
   "outputs": [],
   "source": [
    "with open(\"data/model1.bin\", 'rb') as f_model:\n",
    "    model = pickle.load(f_model)\n",
    "    \n",
    "with open(\"data/dv.bin\",'rb') as dv:\n",
    "    dict_vectorizer = pickle.load(dv)"
   ]
  },
  {
   "cell_type": "code",
   "execution_count": 14,
   "id": "5d55eb4f",
   "metadata": {},
   "outputs": [
    {
     "name": "stdout",
     "output_type": "stream",
     "text": [
      "0.162\n"
     ]
    }
   ],
   "source": [
    "client = {\"reports\": 0, \"share\": 0.001694, \"expenditure\": 0.12, \"owner\": \"yes\"}\n",
    "\n",
    "client = dict_vectorizer.transform([client])\n",
    "\n",
    "print(\"{:.3f}\".format(*model.predict_proba(client)[:,1]))"
   ]
  },
  {
   "cell_type": "code",
   "execution_count": 15,
   "id": "8d2b3118",
   "metadata": {},
   "outputs": [
    {
     "name": "stdout",
     "output_type": "stream",
     "text": [
      "Pong\n"
     ]
    },
    {
     "name": "stderr",
     "output_type": "stream",
     "text": [
      "  % Total    % Received % Xferd  Average Speed   Time    Time     Time  Current\n",
      "                                 Dload  Upload   Total   Spent    Left  Speed\n",
      "\n",
      "  0     0    0     0    0     0      0      0 --:--:-- --:--:-- --:--:--     0\n",
      "100     5  100     5    0     0   1755      0 --:--:-- --:--:-- --:--:--  2500\n"
     ]
    }
   ],
   "source": [
    "# Testing ping->Pong app\n",
    "\n",
    "# run the following first in an env where flask is present\n",
    "# pipenv shell command will take you to your local environment created for this task.\n",
    "# Then run: python ping.py\n",
    "\n",
    "!curl localhost:9696/ping"
   ]
  },
  {
   "cell_type": "code",
   "execution_count": 17,
   "id": "650a632e",
   "metadata": {},
   "outputs": [
    {
     "name": "stdout",
     "output_type": "stream",
     "text": [
      "Pong\n",
      "\n"
     ]
    }
   ],
   "source": [
    "# Or using the requests library...\n",
    "\n",
    "print(requests.get('http://localhost:9696/ping').text)"
   ]
  },
  {
   "cell_type": "markdown",
   "id": "a9a07c69",
   "metadata": {},
   "source": [
    "---\n",
    "## Question 4\n",
    "\n",
    "Now let's serve this model as a web service\n",
    "\n",
    "* Install Flask and gunicorn (or waitress, if you're on Windows)\n",
    "* Write Flask code for serving the model\n",
    "* Now score this client using `requests`:\n",
    "\n",
    "```python\n",
    "url = \"YOUR_URL\"\n",
    "client = {\"reports\": 0, \"share\": 0.245, \"expenditure\": 3.438, \"owner\": \"yes\"}\n",
    "requests.post(url, json=client).json()\n",
    "```\n",
    "\n",
    "What's the probability that this client will get a credit card?\n",
    "\n",
    "* 0.274\n",
    "* 0.484\n",
    "* 0.698\n",
    "* 0.928\n",
    "---"
   ]
  },
  {
   "cell_type": "code",
   "execution_count": 26,
   "id": "5c8c0860",
   "metadata": {},
   "outputs": [
    {
     "name": "stdout",
     "output_type": "stream",
     "text": [
      "The type of response:  <class 'dict'>\n",
      "Positive : True\n",
      "The probability: 0.928\n"
     ]
    }
   ],
   "source": [
    "# DEBUG MODE:\n",
    "# Run the following first in an env where flask is present (i.e. pipenv)\n",
    "# python predict_churn.py\n",
    "\n",
    "URL = \"http://localhost:9696/predict\"\n",
    "\n",
    "client = {\"reports\": 0, \"share\": 0.245, \"expenditure\": 3.438, \"owner\": \"yes\"}\n",
    "\n",
    "response = requests.post(url=URL, json=client).json()\n",
    "\n",
    "print(\"The type of response: \", type(response))\n",
    "print(\"Positive : {}\".format(response['churn']))\n",
    "print(\"The probability: {:.3f}\".format(response['probability']))"
   ]
  },
  {
   "cell_type": "markdown",
   "id": "fa704f0e",
   "metadata": {},
   "source": [
    "I'm using Windows, so I use waitress with the following command in gitbash pipenv shell:\n",
    "\n",
    "`waitress-serve --listen=0.0.0.0:9696 predict_churn:app`\n",
    "\n",
    "Then I switch into the pipenv on another gitbash (on Win10) using `python -m pipenv shell` command.\n",
    "\n",
    "Finally, `python test.py` gives me the result form test.py:\n",
    "\n",
    "`The probability of customer to churn:  0.928\n",
    "sending 25% discount.`"
   ]
  },
  {
   "cell_type": "markdown",
   "id": "c3d56150",
   "metadata": {},
   "source": [
    "---\n",
    "## Docker\n",
    "\n",
    "Install [Docker](https://github.com/alexeygrigorev/mlbookcamp-code/blob/master/course-zoomcamp/05-deployment/06-docker.md). We will use it for the next two questions.\n",
    "\n",
    "For these questions, we prepared a base image: `svizor/zoomcamp-model:3.9.12-slim`. \n",
    "You'll need to use it (see Question 5 for an example).\n",
    "\n",
    "This image is based on `python:3.9.12-slim` and has a logistic regression model \n",
    "(a different one) as well a dictionary vectorizer inside. \n",
    "\n",
    "This is how the Dockerfile for this image looks like:\n",
    "\n",
    "```docker \n",
    "FROM python:3.9.12-slim\n",
    "WORKDIR /app\n",
    "COPY [\"model2.bin\", \"dv.bin\", \"./\"]\n",
    "```\n",
    "\n",
    "We already built it and then pushed it to [`svizor/zoomcamp-model:3.9.12-slim`](https://hub.docker.com/r/svizor/zoomcamp-model).\n",
    "\n",
    "> **Note**: You don't need to build this docker image, it's just for your reference.\n",
    "\n",
    "\n",
    "## Question 5\n",
    "\n",
    "Download the base image `svizor/zoomcamp-model:3.9.12-slim`. You can easily make it by using [docker pull](https://docs.docker.com/engine/reference/commandline/pull/) command.\n",
    "\n",
    "So what's the size of this base image?\n",
    "\n",
    "* 15 Mb\n",
    "* 125 Mb\n",
    "* 275 Mb\n",
    "* 415 Mb\n",
    "\n",
    "You can get this information when running `docker images` - it'll be in the \"SIZE\" column.\n",
    "\n",
    "\n",
    "## Dockerfile\n",
    "\n",
    "Now create your own Dockerfile based on the image we prepared.\n",
    "\n",
    "It should start like that:\n",
    "\n",
    "```docker\n",
    "FROM svizor/zoomcamp-model:3.9.12-slim\n",
    "# add your stuff here\n",
    "```\n",
    "\n",
    "Now complete it:\n",
    "\n",
    "* Install all the dependencies form the Pipenv file\n",
    "* Copy your Flask script\n",
    "* Run it with Gunicorn \n",
    "\n",
    "After that, you can build your docker image.\n",
    "\n",
    "\n",
    "## Question 6\n",
    "\n",
    "Let's run your docker container!\n",
    "\n",
    "After running it, score this client once again:\n",
    "\n",
    "```python\n",
    "url = \"YOUR_URL\"\n",
    "client = {\"reports\": 0, \"share\": 0.245, \"expenditure\": 3.438, \"owner\": \"yes\"}\n",
    "requests.post(url, json=client).json()\n",
    "```\n",
    "\n",
    "What's the probability that this client will get a credit card now?\n",
    "\n",
    "* 0.289\n",
    "* 0.502\n",
    "* 0.769\n",
    "* 0.972\n",
    "---"
   ]
  },
  {
   "cell_type": "markdown",
   "id": "e556f35c",
   "metadata": {},
   "source": [
    "---\n",
    "Solution: While working with Dockerfile on Windows 10 and gitbash, I could not get it to work using the given command:\n",
    "```docker \n",
    "FROM python:3.9.12-slim\n",
    "WORKDIR /app\n",
    "COPY [\"model2.bin\", \"dv.bin\", \"./\"]\n",
    "```\n",
    "I instead used * wildcard to copy all...\n",
    "`COPY [\"*\", \"./\"]`\n",
    "This may cause unnecessary files to be copied to Docker or conflicts if filenames are the same, but usually Linux host environments are more common with Docker. So this is a temporary fix. The following is what is intended.\n",
    "```docker \n",
    "FROM svizor/zoomcamp-model:3.9.12-slim\n",
    "\n",
    "RUN pip install pipenv\n",
    "\n",
    "WORKDIR /app\n",
    "\n",
    "COPY [\"model2.bin\", \"dv.bin\", \"./\"]\n",
    "COPY [\"predict_churn2.py\", \"./\"]\n",
    "\n",
    "RUN pipenv install --system --deploy\n",
    "\n",
    "EXPOSE 9696\n",
    "\n",
    "ENTRYPOINT [ \"gunicorn\", \"--bind=0.0.0.0:9696\", \"predict_churn2:app\"]\n",
    "```"
   ]
  },
  {
   "cell_type": "markdown",
   "id": "652b7efa",
   "metadata": {},
   "source": [
    "For gitbash on Windows 10, it suggested me to prepend `winpty` to the docker run command like below:\n",
    "\n",
    "`winpty docker run -it --rm -p 9696:9696 zoomcamp-test`\n",
    "\n",
    "Then, in pipenv on another bash: run the command `python test_docker.py` to connect to Docker container and get the result back using the `test.docker.py` file.\n",
    "I obtained the followin result:\n",
    "\n",
    "`The probability of customer to churn:  0.769\n",
    "sending 25% discount.`\n",
    "\n",
    "NOTE: Assumed we were working on churn prediction, but model2.bin is about credit card approval. So ignore the churn statements like 'sending discount' etc. or the use of 'churn' in function names. Higher probability here is for credit approval."
   ]
  },
  {
   "cell_type": "markdown",
   "id": "6d7e4d08",
   "metadata": {},
   "source": [
    "---\n",
    "The end of the Week 5 Assignment.\n",
    "\n",
    "---"
   ]
  }
 ],
 "metadata": {
  "kernelspec": {
   "display_name": "Python 3 (ipykernel)",
   "language": "python",
   "name": "python3"
  },
  "language_info": {
   "codemirror_mode": {
    "name": "ipython",
    "version": 3
   },
   "file_extension": ".py",
   "mimetype": "text/x-python",
   "name": "python",
   "nbconvert_exporter": "python",
   "pygments_lexer": "ipython3",
   "version": "3.9.12"
  }
 },
 "nbformat": 4,
 "nbformat_minor": 5
}
