{
 "cells": [
  {
   "cell_type": "code",
   "execution_count": 1,
   "id": "7e51d5d8",
   "metadata": {},
   "outputs": [],
   "source": [
    "# import openml\n",
    "import pandas as pd\n",
    "import numpy as np\n",
    "import matplotlib.pyplot as plt\n",
    "\n",
    "from sklearn.feature_extraction import DictVectorizer\n",
    "from sklearn.model_selection import train_test_split\n",
    "from sklearn.metrics import mean_squared_error\n",
    "from sklearn.linear_model import LinearRegression\n",
    "from sklearn.preprocessing import MinMaxScaler, StandardScaler, MaxAbsScaler, RobustScaler\n",
    "\n",
    "import seaborn as sns\n",
    "%matplotlib inline"
   ]
  },
  {
   "cell_type": "markdown",
   "id": "7a5d240a",
   "metadata": {},
   "source": [
    "Using the openml dataset ID:44062 `Brazilian Houses to Rent` <br>\n",
    "\n",
    "Original raw data with column descriptions:  <br>\n",
    "https://www.kaggle.com/datasets/rubenssjr/brasilian-houses-to-rent?select=houses_to_rent_v2.csv <br>\n",
    "\n",
    "The data used, clean: `Brazilian_houses v.8 on OpenML` <br>\n",
    "https://www.openml.org/search?type=data&status=active&sort=date&id=44062"
   ]
  },
  {
   "cell_type": "markdown",
   "id": "bd1d869d",
   "metadata": {},
   "source": [
    "Used the following cell to get data from OpenML. Commented it so that I do not need to incorporate it in my pipenv virtual env."
   ]
  },
  {
   "cell_type": "code",
   "execution_count": 7,
   "id": "2894a44e",
   "metadata": {},
   "outputs": [],
   "source": [
    "# dataset = openml.datasets.get_dataset(44062, download_data=True)\n",
    "# X, y, categorical_indicator, attribute_names = dataset.get_data(\n",
    "#     dataset_format=\"array\", target=dataset.default_target_attribute\n",
    "# )\n",
    "# df = pd.DataFrame(X, columns=attribute_names)\n",
    "# df[\"target\"] = y\n",
    "# df.to_csv(\"data/brazilian_houses_openml_v8.csv\")"
   ]
  },
  {
   "cell_type": "code",
   "execution_count": 8,
   "id": "6b7da4ed",
   "metadata": {},
   "outputs": [],
   "source": [
    "df = pd.read_csv(\"data/brazilian_houses_openml_v8.csv\", index_col=0)"
   ]
  },
  {
   "cell_type": "code",
   "execution_count": 9,
   "id": "bf02bec3",
   "metadata": {
    "scrolled": true
   },
   "outputs": [
    {
     "data": {
      "text/html": [
       "<div>\n",
       "<style scoped>\n",
       "    .dataframe tbody tr th:only-of-type {\n",
       "        vertical-align: middle;\n",
       "    }\n",
       "\n",
       "    .dataframe tbody tr th {\n",
       "        vertical-align: top;\n",
       "    }\n",
       "\n",
       "    .dataframe thead th {\n",
       "        text-align: right;\n",
       "    }\n",
       "</style>\n",
       "<table border=\"1\" class=\"dataframe\">\n",
       "  <thead>\n",
       "    <tr style=\"text-align: right;\">\n",
       "      <th></th>\n",
       "      <th>city</th>\n",
       "      <th>area</th>\n",
       "      <th>rooms</th>\n",
       "      <th>bathroom</th>\n",
       "      <th>parking_spaces</th>\n",
       "      <th>animal</th>\n",
       "      <th>furniture</th>\n",
       "      <th>hoa_(BRL)</th>\n",
       "      <th>rent_amount_(BRL)</th>\n",
       "      <th>property_tax_(BRL)</th>\n",
       "      <th>fire_insurance_(BRL)</th>\n",
       "      <th>target</th>\n",
       "    </tr>\n",
       "  </thead>\n",
       "  <tbody>\n",
       "    <tr>\n",
       "      <th>0</th>\n",
       "      <td>4.0</td>\n",
       "      <td>70.0</td>\n",
       "      <td>2.0</td>\n",
       "      <td>1.0</td>\n",
       "      <td>1.0</td>\n",
       "      <td>0.0</td>\n",
       "      <td>0.0</td>\n",
       "      <td>2065.0</td>\n",
       "      <td>3300.0</td>\n",
       "      <td>211.0</td>\n",
       "      <td>42.0</td>\n",
       "      <td>8.633909</td>\n",
       "    </tr>\n",
       "    <tr>\n",
       "      <th>1</th>\n",
       "      <td>4.0</td>\n",
       "      <td>320.0</td>\n",
       "      <td>4.0</td>\n",
       "      <td>4.0</td>\n",
       "      <td>0.0</td>\n",
       "      <td>0.0</td>\n",
       "      <td>1.0</td>\n",
       "      <td>1200.0</td>\n",
       "      <td>4960.0</td>\n",
       "      <td>1750.0</td>\n",
       "      <td>63.0</td>\n",
       "      <td>8.983941</td>\n",
       "    </tr>\n",
       "    <tr>\n",
       "      <th>2</th>\n",
       "      <td>2.0</td>\n",
       "      <td>80.0</td>\n",
       "      <td>1.0</td>\n",
       "      <td>1.0</td>\n",
       "      <td>1.0</td>\n",
       "      <td>0.0</td>\n",
       "      <td>1.0</td>\n",
       "      <td>1000.0</td>\n",
       "      <td>2800.0</td>\n",
       "      <td>0.0</td>\n",
       "      <td>41.0</td>\n",
       "      <td>8.253748</td>\n",
       "    </tr>\n",
       "    <tr>\n",
       "      <th>3</th>\n",
       "      <td>2.0</td>\n",
       "      <td>51.0</td>\n",
       "      <td>2.0</td>\n",
       "      <td>1.0</td>\n",
       "      <td>0.0</td>\n",
       "      <td>0.0</td>\n",
       "      <td>1.0</td>\n",
       "      <td>270.0</td>\n",
       "      <td>1112.0</td>\n",
       "      <td>22.0</td>\n",
       "      <td>17.0</td>\n",
       "      <td>7.259820</td>\n",
       "    </tr>\n",
       "    <tr>\n",
       "      <th>4</th>\n",
       "      <td>4.0</td>\n",
       "      <td>25.0</td>\n",
       "      <td>1.0</td>\n",
       "      <td>1.0</td>\n",
       "      <td>0.0</td>\n",
       "      <td>1.0</td>\n",
       "      <td>1.0</td>\n",
       "      <td>0.0</td>\n",
       "      <td>800.0</td>\n",
       "      <td>25.0</td>\n",
       "      <td>11.0</td>\n",
       "      <td>6.729824</td>\n",
       "    </tr>\n",
       "  </tbody>\n",
       "</table>\n",
       "</div>"
      ],
      "text/plain": [
       "   city   area  rooms  bathroom  parking_spaces  animal  furniture  hoa_(BRL)  \\\n",
       "0   4.0   70.0    2.0       1.0             1.0     0.0        0.0     2065.0   \n",
       "1   4.0  320.0    4.0       4.0             0.0     0.0        1.0     1200.0   \n",
       "2   2.0   80.0    1.0       1.0             1.0     0.0        1.0     1000.0   \n",
       "3   2.0   51.0    2.0       1.0             0.0     0.0        1.0      270.0   \n",
       "4   4.0   25.0    1.0       1.0             0.0     1.0        1.0        0.0   \n",
       "\n",
       "   rent_amount_(BRL)  property_tax_(BRL)  fire_insurance_(BRL)    target  \n",
       "0             3300.0               211.0                  42.0  8.633909  \n",
       "1             4960.0              1750.0                  63.0  8.983941  \n",
       "2             2800.0                 0.0                  41.0  8.253748  \n",
       "3             1112.0                22.0                  17.0  7.259820  \n",
       "4              800.0                25.0                  11.0  6.729824  "
      ]
     },
     "execution_count": 9,
     "metadata": {},
     "output_type": "execute_result"
    }
   ],
   "source": [
    "df.head()"
   ]
  },
  {
   "cell_type": "code",
   "execution_count": 18,
   "id": "fdacba41",
   "metadata": {},
   "outputs": [
    {
     "data": {
      "text/html": [
       "<div>\n",
       "<style scoped>\n",
       "    .dataframe tbody tr th:only-of-type {\n",
       "        vertical-align: middle;\n",
       "    }\n",
       "\n",
       "    .dataframe tbody tr th {\n",
       "        vertical-align: top;\n",
       "    }\n",
       "\n",
       "    .dataframe thead th {\n",
       "        text-align: right;\n",
       "    }\n",
       "</style>\n",
       "<table border=\"1\" class=\"dataframe\">\n",
       "  <thead>\n",
       "    <tr style=\"text-align: right;\">\n",
       "      <th></th>\n",
       "      <th>city</th>\n",
       "      <th>area</th>\n",
       "      <th>rooms</th>\n",
       "      <th>bathroom</th>\n",
       "      <th>parking_spaces</th>\n",
       "      <th>animal</th>\n",
       "      <th>furniture</th>\n",
       "      <th>hoa_brl</th>\n",
       "      <th>rent_amount_brl</th>\n",
       "      <th>property_tax_brl</th>\n",
       "      <th>fire_insurance_brl</th>\n",
       "      <th>target</th>\n",
       "    </tr>\n",
       "  </thead>\n",
       "  <tbody>\n",
       "    <tr>\n",
       "      <th>0</th>\n",
       "      <td>4.0</td>\n",
       "      <td>70.0</td>\n",
       "      <td>2.0</td>\n",
       "      <td>1.0</td>\n",
       "      <td>1.0</td>\n",
       "      <td>0.0</td>\n",
       "      <td>0.0</td>\n",
       "      <td>2065.0</td>\n",
       "      <td>3300.0</td>\n",
       "      <td>211.0</td>\n",
       "      <td>42.0</td>\n",
       "      <td>8.633909</td>\n",
       "    </tr>\n",
       "    <tr>\n",
       "      <th>1</th>\n",
       "      <td>4.0</td>\n",
       "      <td>320.0</td>\n",
       "      <td>4.0</td>\n",
       "      <td>4.0</td>\n",
       "      <td>0.0</td>\n",
       "      <td>0.0</td>\n",
       "      <td>1.0</td>\n",
       "      <td>1200.0</td>\n",
       "      <td>4960.0</td>\n",
       "      <td>1750.0</td>\n",
       "      <td>63.0</td>\n",
       "      <td>8.983941</td>\n",
       "    </tr>\n",
       "    <tr>\n",
       "      <th>2</th>\n",
       "      <td>2.0</td>\n",
       "      <td>80.0</td>\n",
       "      <td>1.0</td>\n",
       "      <td>1.0</td>\n",
       "      <td>1.0</td>\n",
       "      <td>0.0</td>\n",
       "      <td>1.0</td>\n",
       "      <td>1000.0</td>\n",
       "      <td>2800.0</td>\n",
       "      <td>0.0</td>\n",
       "      <td>41.0</td>\n",
       "      <td>8.253748</td>\n",
       "    </tr>\n",
       "    <tr>\n",
       "      <th>3</th>\n",
       "      <td>2.0</td>\n",
       "      <td>51.0</td>\n",
       "      <td>2.0</td>\n",
       "      <td>1.0</td>\n",
       "      <td>0.0</td>\n",
       "      <td>0.0</td>\n",
       "      <td>1.0</td>\n",
       "      <td>270.0</td>\n",
       "      <td>1112.0</td>\n",
       "      <td>22.0</td>\n",
       "      <td>17.0</td>\n",
       "      <td>7.259820</td>\n",
       "    </tr>\n",
       "    <tr>\n",
       "      <th>4</th>\n",
       "      <td>4.0</td>\n",
       "      <td>25.0</td>\n",
       "      <td>1.0</td>\n",
       "      <td>1.0</td>\n",
       "      <td>0.0</td>\n",
       "      <td>1.0</td>\n",
       "      <td>1.0</td>\n",
       "      <td>0.0</td>\n",
       "      <td>800.0</td>\n",
       "      <td>25.0</td>\n",
       "      <td>11.0</td>\n",
       "      <td>6.729824</td>\n",
       "    </tr>\n",
       "  </tbody>\n",
       "</table>\n",
       "</div>"
      ],
      "text/plain": [
       "   city   area  rooms  bathroom  parking_spaces  animal  furniture  hoa_brl  \\\n",
       "0   4.0   70.0    2.0       1.0             1.0     0.0        0.0   2065.0   \n",
       "1   4.0  320.0    4.0       4.0             0.0     0.0        1.0   1200.0   \n",
       "2   2.0   80.0    1.0       1.0             1.0     0.0        1.0   1000.0   \n",
       "3   2.0   51.0    2.0       1.0             0.0     0.0        1.0    270.0   \n",
       "4   4.0   25.0    1.0       1.0             0.0     1.0        1.0      0.0   \n",
       "\n",
       "   rent_amount_brl  property_tax_brl  fire_insurance_brl    target  \n",
       "0           3300.0             211.0                42.0  8.633909  \n",
       "1           4960.0            1750.0                63.0  8.983941  \n",
       "2           2800.0               0.0                41.0  8.253748  \n",
       "3           1112.0              22.0                17.0  7.259820  \n",
       "4            800.0              25.0                11.0  6.729824  "
      ]
     },
     "execution_count": 18,
     "metadata": {},
     "output_type": "execute_result"
    }
   ],
   "source": [
    "df.columns = df.columns.str.replace(\"[()]\", \"\", regex=True)\n",
    "df.columns = df.columns.str.lower()\n",
    "df.head()"
   ]
  },
  {
   "cell_type": "code",
   "execution_count": 13,
   "id": "6e2495ab",
   "metadata": {},
   "outputs": [
    {
     "name": "stdout",
     "output_type": "stream",
     "text": [
      "cat_columns=['city', 'animal', 'furniture']\n",
      "num_columns=['area', 'rooms', 'bathroom', 'parking_spaces', 'hoa_brl', 'rent_amount_brl', 'property_tax_brl', 'fire_insurance_brl']\n"
     ]
    }
   ],
   "source": [
    "cat_columns = ['city', 'animal', 'furniture']\n",
    "num_columns = ['area', 'rooms', 'bathroom', 'parking_spaces', 'hoa_brl','rent_amount_brl', \n",
    "               'property_tax_brl', 'fire_insurance_brl']\n",
    "print(f\"{cat_columns=}\")\n",
    "print(f\"{num_columns=}\")"
   ]
  },
  {
   "cell_type": "code",
   "execution_count": 14,
   "id": "62aee11b",
   "metadata": {},
   "outputs": [],
   "source": [
    "# Target variable is the rent which log1p-transformed. \n",
    "actual_total_rent = np.exp(df[\"target\"]) - 1 "
   ]
  },
  {
   "cell_type": "code",
   "execution_count": 17,
   "id": "ff722472",
   "metadata": {},
   "outputs": [
    {
     "data": {
      "image/png": "[encoded data removed]",
      "text/plain": [
       "<Figure size 432x288 with 1 Axes>"
      ]
     },
     "metadata": {
      "needs_background": "light"
     },
     "output_type": "display_data"
    }
   ],
   "source": [
    "df.target.hist(bins=35)\n",
    "plt.xlabel(\"Log1p transformed rent.\")\n",
    "plt.ylabel(\"Counts\")\n",
    "plt.show()"
   ]
  },
  {
   "cell_type": "code",
   "execution_count": 9,
   "id": "8585c6c5",
   "metadata": {},
   "outputs": [
    {
     "data": {
      "text/plain": [
       "(10692, 12)"
      ]
     },
     "execution_count": 9,
     "metadata": {},
     "output_type": "execute_result"
    }
   ],
   "source": [
    "df.shape"
   ]
  },
  {
   "cell_type": "code",
   "execution_count": 10,
   "id": "7596b54a",
   "metadata": {},
   "outputs": [
    {
     "name": "stdout",
     "output_type": "stream",
     "text": [
      "<class 'pandas.core.frame.DataFrame'>\n",
      "RangeIndex: 10692 entries, 0 to 10691\n",
      "Data columns (total 12 columns):\n",
      " #   Column              Non-Null Count  Dtype  \n",
      "---  ------              --------------  -----  \n",
      " 0   city                10692 non-null  float32\n",
      " 1   area                10692 non-null  float32\n",
      " 2   rooms               10692 non-null  float32\n",
      " 3   bathroom            10692 non-null  float32\n",
      " 4   parking_spaces      10692 non-null  float32\n",
      " 5   animal              10692 non-null  float32\n",
      " 6   furniture           10692 non-null  float32\n",
      " 7   hoa_brl             10692 non-null  float32\n",
      " 8   rent_amount_brl     10692 non-null  float32\n",
      " 9   property_tax_brl    10692 non-null  float32\n",
      " 10  fire_insurance_brl  10692 non-null  float32\n",
      " 11  target              10692 non-null  float64\n",
      "dtypes: float32(11), float64(1)\n",
      "memory usage: 543.1 KB\n"
     ]
    }
   ],
   "source": [
    "df.info()"
   ]
  },
  {
   "cell_type": "markdown",
   "id": "199645a6",
   "metadata": {},
   "source": [
    "We see that the whole data is free of nulls."
   ]
  },
  {
   "cell_type": "code",
   "execution_count": 11,
   "id": "5eee0719",
   "metadata": {},
   "outputs": [
    {
     "data": {
      "text/html": [
       "<div>\n",
       "<style scoped>\n",
       "    .dataframe tbody tr th:only-of-type {\n",
       "        vertical-align: middle;\n",
       "    }\n",
       "\n",
       "    .dataframe tbody tr th {\n",
       "        vertical-align: top;\n",
       "    }\n",
       "\n",
       "    .dataframe thead th {\n",
       "        text-align: right;\n",
       "    }\n",
       "</style>\n",
       "<table border=\"1\" class=\"dataframe\">\n",
       "  <thead>\n",
       "    <tr style=\"text-align: right;\">\n",
       "      <th></th>\n",
       "      <th>area</th>\n",
       "      <th>rooms</th>\n",
       "      <th>bathroom</th>\n",
       "      <th>parking_spaces</th>\n",
       "      <th>hoa_brl</th>\n",
       "      <th>rent_amount_brl</th>\n",
       "      <th>property_tax_brl</th>\n",
       "      <th>fire_insurance_brl</th>\n",
       "    </tr>\n",
       "  </thead>\n",
       "  <tbody>\n",
       "    <tr>\n",
       "      <th>count</th>\n",
       "      <td>10692.000000</td>\n",
       "      <td>10692.000000</td>\n",
       "      <td>10692.000000</td>\n",
       "      <td>10692.000000</td>\n",
       "      <td>1.069200e+04</td>\n",
       "      <td>10692.000000</td>\n",
       "      <td>10692.000000</td>\n",
       "      <td>10692.000000</td>\n",
       "    </tr>\n",
       "    <tr>\n",
       "      <th>mean</th>\n",
       "      <td>149.217926</td>\n",
       "      <td>2.506079</td>\n",
       "      <td>2.236813</td>\n",
       "      <td>1.609147</td>\n",
       "      <td>1.174022e+03</td>\n",
       "      <td>3896.245361</td>\n",
       "      <td>366.704346</td>\n",
       "      <td>53.300880</td>\n",
       "    </tr>\n",
       "    <tr>\n",
       "      <th>std</th>\n",
       "      <td>537.016479</td>\n",
       "      <td>1.171276</td>\n",
       "      <td>1.407143</td>\n",
       "      <td>1.589505</td>\n",
       "      <td>1.559238e+04</td>\n",
       "      <td>3408.522461</td>\n",
       "      <td>3107.805908</td>\n",
       "      <td>47.767841</td>\n",
       "    </tr>\n",
       "    <tr>\n",
       "      <th>min</th>\n",
       "      <td>11.000000</td>\n",
       "      <td>1.000000</td>\n",
       "      <td>1.000000</td>\n",
       "      <td>0.000000</td>\n",
       "      <td>0.000000e+00</td>\n",
       "      <td>450.000000</td>\n",
       "      <td>0.000000</td>\n",
       "      <td>3.000000</td>\n",
       "    </tr>\n",
       "    <tr>\n",
       "      <th>25%</th>\n",
       "      <td>56.000000</td>\n",
       "      <td>2.000000</td>\n",
       "      <td>1.000000</td>\n",
       "      <td>0.000000</td>\n",
       "      <td>1.700000e+02</td>\n",
       "      <td>1530.000000</td>\n",
       "      <td>38.000000</td>\n",
       "      <td>21.000000</td>\n",
       "    </tr>\n",
       "    <tr>\n",
       "      <th>50%</th>\n",
       "      <td>90.000000</td>\n",
       "      <td>2.000000</td>\n",
       "      <td>2.000000</td>\n",
       "      <td>1.000000</td>\n",
       "      <td>5.600000e+02</td>\n",
       "      <td>2661.000000</td>\n",
       "      <td>125.000000</td>\n",
       "      <td>36.000000</td>\n",
       "    </tr>\n",
       "    <tr>\n",
       "      <th>75%</th>\n",
       "      <td>182.000000</td>\n",
       "      <td>3.000000</td>\n",
       "      <td>3.000000</td>\n",
       "      <td>2.000000</td>\n",
       "      <td>1.237500e+03</td>\n",
       "      <td>5000.000000</td>\n",
       "      <td>375.000000</td>\n",
       "      <td>68.000000</td>\n",
       "    </tr>\n",
       "    <tr>\n",
       "      <th>max</th>\n",
       "      <td>46335.000000</td>\n",
       "      <td>13.000000</td>\n",
       "      <td>10.000000</td>\n",
       "      <td>12.000000</td>\n",
       "      <td>1.117000e+06</td>\n",
       "      <td>45000.000000</td>\n",
       "      <td>313700.000000</td>\n",
       "      <td>677.000000</td>\n",
       "    </tr>\n",
       "  </tbody>\n",
       "</table>\n",
       "</div>"
      ],
      "text/plain": [
       "               area         rooms      bathroom  parking_spaces       hoa_brl  \\\n",
       "count  10692.000000  10692.000000  10692.000000    10692.000000  1.069200e+04   \n",
       "mean     149.217926      2.506079      2.236813        1.609147  1.174022e+03   \n",
       "std      537.016479      1.171276      1.407143        1.589505  1.559238e+04   \n",
       "min       11.000000      1.000000      1.000000        0.000000  0.000000e+00   \n",
       "25%       56.000000      2.000000      1.000000        0.000000  1.700000e+02   \n",
       "50%       90.000000      2.000000      2.000000        1.000000  5.600000e+02   \n",
       "75%      182.000000      3.000000      3.000000        2.000000  1.237500e+03   \n",
       "max    46335.000000     13.000000     10.000000       12.000000  1.117000e+06   \n",
       "\n",
       "       rent_amount_brl  property_tax_brl  fire_insurance_brl  \n",
       "count     10692.000000      10692.000000        10692.000000  \n",
       "mean       3896.245361        366.704346           53.300880  \n",
       "std        3408.522461       3107.805908           47.767841  \n",
       "min         450.000000          0.000000            3.000000  \n",
       "25%        1530.000000         38.000000           21.000000  \n",
       "50%        2661.000000        125.000000           36.000000  \n",
       "75%        5000.000000        375.000000           68.000000  \n",
       "max       45000.000000     313700.000000          677.000000  "
      ]
     },
     "execution_count": 11,
     "metadata": {},
     "output_type": "execute_result"
    }
   ],
   "source": [
    "# Look at only numerical values\n",
    "df.loc[:,num_columns].describe()"
   ]
  },
  {
   "cell_type": "markdown",
   "id": "f45dee3c",
   "metadata": {},
   "source": [
    "Lets see how categorical variables are distributed.\n",
    "* City takes values from 0 to 4, as integers, 5 cities.\n",
    "* Furniture and Animal describe binary features: is the house furnitured or does owner NOT allow animals?"
   ]
  },
  {
   "cell_type": "code",
   "execution_count": 12,
   "id": "62adb2be",
   "metadata": {},
   "outputs": [
    {
     "name": "stdout",
     "output_type": "stream",
     "text": [
      "The percentage of houses that reject animals/pets in the house: 22.2%\n"
     ]
    }
   ],
   "source": [
    "print(\"The percentage of houses that reject animals/pets in the house: {}%\".format(np.round(df.animal.mean()*100,1)))"
   ]
  },
  {
   "cell_type": "code",
   "execution_count": 13,
   "id": "b603d2ef",
   "metadata": {},
   "outputs": [
    {
     "name": "stdout",
     "output_type": "stream",
     "text": [
      "The percentage of furnitured houses: 75.6%\n"
     ]
    }
   ],
   "source": [
    "print(\"The percentage of furnitured houses: {}%\".format(np.round(df.furniture.mean()*100,1)))"
   ]
  },
  {
   "cell_type": "markdown",
   "id": "e48b718d",
   "metadata": {},
   "source": [
    "We see that it is coded inversely to intuition. 75.6% of houses should be without furniture. (as verifiable on original raw data in Kaggle)"
   ]
  },
  {
   "cell_type": "code",
   "execution_count": 14,
   "id": "8a6fbd5e",
   "metadata": {},
   "outputs": [
    {
     "name": "stdout",
     "output_type": "stream",
     "text": [
      "The percentage of furnitured houses: 24.4%\n",
      "The percentage of pet-friendly houses: 77.8%\n"
     ]
    }
   ],
   "source": [
    "# reversing the code to mean furnitured and animal-permitted.\n",
    "df.furniture = (df.furniture ==0).astype(int)\n",
    "print(\"The percentage of furnitured houses: {}%\".format(np.round(df.furniture.mean()*100,1)))\n",
    "df.animal = (df.animal == 0).astype(int)\n",
    "print(\"The percentage of pet-friendly houses: {}%\".format(np.round(df.animal.mean()*100,1)))"
   ]
  },
  {
   "cell_type": "code",
   "execution_count": 15,
   "id": "cc1b4bbe",
   "metadata": {},
   "outputs": [
    {
     "data": {
      "text/html": [
       "<div>\n",
       "<style scoped>\n",
       "    .dataframe tbody tr th:only-of-type {\n",
       "        vertical-align: middle;\n",
       "    }\n",
       "\n",
       "    .dataframe tbody tr th {\n",
       "        vertical-align: top;\n",
       "    }\n",
       "\n",
       "    .dataframe thead th {\n",
       "        text-align: right;\n",
       "    }\n",
       "</style>\n",
       "<table border=\"1\" class=\"dataframe\">\n",
       "  <thead>\n",
       "    <tr style=\"text-align: right;\">\n",
       "      <th></th>\n",
       "      <th>area</th>\n",
       "      <th>rooms</th>\n",
       "      <th>bathroom</th>\n",
       "      <th>parking_spaces</th>\n",
       "      <th>animal</th>\n",
       "      <th>furniture</th>\n",
       "      <th>hoa_brl</th>\n",
       "      <th>rent_amount_brl</th>\n",
       "      <th>property_tax_brl</th>\n",
       "      <th>fire_insurance_brl</th>\n",
       "      <th>target</th>\n",
       "    </tr>\n",
       "    <tr>\n",
       "      <th>city</th>\n",
       "      <th></th>\n",
       "      <th></th>\n",
       "      <th></th>\n",
       "      <th></th>\n",
       "      <th></th>\n",
       "      <th></th>\n",
       "      <th></th>\n",
       "      <th></th>\n",
       "      <th></th>\n",
       "      <th></th>\n",
       "      <th></th>\n",
       "    </tr>\n",
       "  </thead>\n",
       "  <tbody>\n",
       "    <tr>\n",
       "      <th>0.0</th>\n",
       "      <td>207.411758</td>\n",
       "      <td>3.020668</td>\n",
       "      <td>2.402226</td>\n",
       "      <td>1.955485</td>\n",
       "      <td>0.740064</td>\n",
       "      <td>0.140700</td>\n",
       "      <td>2324.197021</td>\n",
       "      <td>3664.127930</td>\n",
       "      <td>272.782196</td>\n",
       "      <td>53.675674</td>\n",
       "      <td>8.081089</td>\n",
       "    </tr>\n",
       "    <tr>\n",
       "      <th>1.0</th>\n",
       "      <td>137.561554</td>\n",
       "      <td>2.355217</td>\n",
       "      <td>1.960141</td>\n",
       "      <td>1.558030</td>\n",
       "      <td>0.812427</td>\n",
       "      <td>0.130129</td>\n",
       "      <td>628.922607</td>\n",
       "      <td>2364.290771</td>\n",
       "      <td>147.657684</td>\n",
       "      <td>32.388042</td>\n",
       "      <td>7.796197</td>\n",
       "    </tr>\n",
       "    <tr>\n",
       "      <th>2.0</th>\n",
       "      <td>103.609390</td>\n",
       "      <td>2.140821</td>\n",
       "      <td>1.725901</td>\n",
       "      <td>1.044426</td>\n",
       "      <td>0.842414</td>\n",
       "      <td>0.267393</td>\n",
       "      <td>491.618622</td>\n",
       "      <td>2337.699951</td>\n",
       "      <td>124.021797</td>\n",
       "      <td>36.425816</td>\n",
       "      <td>7.763974</td>\n",
       "    </tr>\n",
       "    <tr>\n",
       "      <th>3.0</th>\n",
       "      <td>105.347771</td>\n",
       "      <td>2.243837</td>\n",
       "      <td>1.756163</td>\n",
       "      <td>0.744171</td>\n",
       "      <td>0.802798</td>\n",
       "      <td>0.270486</td>\n",
       "      <td>1079.432373</td>\n",
       "      <td>3232.904053</td>\n",
       "      <td>256.853424</td>\n",
       "      <td>42.483013</td>\n",
       "      <td>8.168301</td>\n",
       "    </tr>\n",
       "    <tr>\n",
       "      <th>4.0</th>\n",
       "      <td>158.899445</td>\n",
       "      <td>2.558858</td>\n",
       "      <td>2.467641</td>\n",
       "      <td>1.877527</td>\n",
       "      <td>0.761339</td>\n",
       "      <td>0.270596</td>\n",
       "      <td>1169.628052</td>\n",
       "      <td>4652.793945</td>\n",
       "      <td>495.701721</td>\n",
       "      <td>62.428909</td>\n",
       "      <td>8.458802</td>\n",
       "    </tr>\n",
       "  </tbody>\n",
       "</table>\n",
       "</div>"
      ],
      "text/plain": [
       "            area     rooms  bathroom  parking_spaces    animal  furniture  \\\n",
       "city                                                                        \n",
       "0.0   207.411758  3.020668  2.402226        1.955485  0.740064   0.140700   \n",
       "1.0   137.561554  2.355217  1.960141        1.558030  0.812427   0.130129   \n",
       "2.0   103.609390  2.140821  1.725901        1.044426  0.842414   0.267393   \n",
       "3.0   105.347771  2.243837  1.756163        0.744171  0.802798   0.270486   \n",
       "4.0   158.899445  2.558858  2.467641        1.877527  0.761339   0.270596   \n",
       "\n",
       "          hoa_brl  rent_amount_brl  property_tax_brl  fire_insurance_brl  \\\n",
       "city                                                                       \n",
       "0.0   2324.197021      3664.127930        272.782196           53.675674   \n",
       "1.0    628.922607      2364.290771        147.657684           32.388042   \n",
       "2.0    491.618622      2337.699951        124.021797           36.425816   \n",
       "3.0   1079.432373      3232.904053        256.853424           42.483013   \n",
       "4.0   1169.628052      4652.793945        495.701721           62.428909   \n",
       "\n",
       "        target  \n",
       "city            \n",
       "0.0   8.081089  \n",
       "1.0   7.796197  \n",
       "2.0   7.763974  \n",
       "3.0   8.168301  \n",
       "4.0   8.458802  "
      ]
     },
     "execution_count": 15,
     "metadata": {},
     "output_type": "execute_result"
    }
   ],
   "source": [
    "df.groupby('city').mean()"
   ]
  },
  {
   "cell_type": "code",
   "execution_count": 16,
   "id": "fb3bebbe",
   "metadata": {},
   "outputs": [
    {
     "data": {
      "text/html": [
       "<div>\n",
       "<style scoped>\n",
       "    .dataframe tbody tr th:only-of-type {\n",
       "        vertical-align: middle;\n",
       "    }\n",
       "\n",
       "    .dataframe tbody tr th {\n",
       "        vertical-align: top;\n",
       "    }\n",
       "\n",
       "    .dataframe thead th {\n",
       "        text-align: right;\n",
       "    }\n",
       "</style>\n",
       "<table border=\"1\" class=\"dataframe\">\n",
       "  <thead>\n",
       "    <tr style=\"text-align: right;\">\n",
       "      <th></th>\n",
       "      <th>city</th>\n",
       "      <th>area</th>\n",
       "      <th>rooms</th>\n",
       "      <th>bathroom</th>\n",
       "      <th>parking_spaces</th>\n",
       "      <th>furniture</th>\n",
       "      <th>hoa_brl</th>\n",
       "      <th>rent_amount_brl</th>\n",
       "      <th>property_tax_brl</th>\n",
       "      <th>fire_insurance_brl</th>\n",
       "      <th>target</th>\n",
       "    </tr>\n",
       "    <tr>\n",
       "      <th>animal</th>\n",
       "      <th></th>\n",
       "      <th></th>\n",
       "      <th></th>\n",
       "      <th></th>\n",
       "      <th></th>\n",
       "      <th></th>\n",
       "      <th></th>\n",
       "      <th></th>\n",
       "      <th></th>\n",
       "      <th></th>\n",
       "      <th></th>\n",
       "    </tr>\n",
       "  </thead>\n",
       "  <tbody>\n",
       "    <tr>\n",
       "      <th>0</th>\n",
       "      <td>2.964647</td>\n",
       "      <td>109.409088</td>\n",
       "      <td>2.128788</td>\n",
       "      <td>1.925505</td>\n",
       "      <td>1.230219</td>\n",
       "      <td>0.314394</td>\n",
       "      <td>1815.983643</td>\n",
       "      <td>3464.212158</td>\n",
       "      <td>384.182251</td>\n",
       "      <td>46.227695</td>\n",
       "      <td>8.110661</td>\n",
       "    </tr>\n",
       "    <tr>\n",
       "      <th>1</th>\n",
       "      <td>2.915584</td>\n",
       "      <td>160.591873</td>\n",
       "      <td>2.613877</td>\n",
       "      <td>2.325758</td>\n",
       "      <td>1.717412</td>\n",
       "      <td>0.223545</td>\n",
       "      <td>990.604004</td>\n",
       "      <td>4019.685791</td>\n",
       "      <td>361.710693</td>\n",
       "      <td>55.321789</td>\n",
       "      <td>8.281054</td>\n",
       "    </tr>\n",
       "  </tbody>\n",
       "</table>\n",
       "</div>"
      ],
      "text/plain": [
       "            city        area     rooms  bathroom  parking_spaces  furniture  \\\n",
       "animal                                                                        \n",
       "0       2.964647  109.409088  2.128788  1.925505        1.230219   0.314394   \n",
       "1       2.915584  160.591873  2.613877  2.325758        1.717412   0.223545   \n",
       "\n",
       "            hoa_brl  rent_amount_brl  property_tax_brl  fire_insurance_brl  \\\n",
       "animal                                                                       \n",
       "0       1815.983643      3464.212158        384.182251           46.227695   \n",
       "1        990.604004      4019.685791        361.710693           55.321789   \n",
       "\n",
       "          target  \n",
       "animal            \n",
       "0       8.110661  \n",
       "1       8.281054  "
      ]
     },
     "execution_count": 16,
     "metadata": {},
     "output_type": "execute_result"
    }
   ],
   "source": [
    "df.groupby('animal').mean()"
   ]
  },
  {
   "cell_type": "code",
   "execution_count": 17,
   "id": "bbede161",
   "metadata": {},
   "outputs": [
    {
     "data": {
      "text/html": [
       "<div>\n",
       "<style scoped>\n",
       "    .dataframe tbody tr th:only-of-type {\n",
       "        vertical-align: middle;\n",
       "    }\n",
       "\n",
       "    .dataframe tbody tr th {\n",
       "        vertical-align: top;\n",
       "    }\n",
       "\n",
       "    .dataframe thead th {\n",
       "        text-align: right;\n",
       "    }\n",
       "</style>\n",
       "<table border=\"1\" class=\"dataframe\">\n",
       "  <thead>\n",
       "    <tr style=\"text-align: right;\">\n",
       "      <th></th>\n",
       "      <th>city</th>\n",
       "      <th>area</th>\n",
       "      <th>rooms</th>\n",
       "      <th>bathroom</th>\n",
       "      <th>parking_spaces</th>\n",
       "      <th>animal</th>\n",
       "      <th>hoa_brl</th>\n",
       "      <th>rent_amount_brl</th>\n",
       "      <th>property_tax_brl</th>\n",
       "      <th>fire_insurance_brl</th>\n",
       "      <th>target</th>\n",
       "    </tr>\n",
       "    <tr>\n",
       "      <th>furniture</th>\n",
       "      <th></th>\n",
       "      <th></th>\n",
       "      <th></th>\n",
       "      <th></th>\n",
       "      <th></th>\n",
       "      <th></th>\n",
       "      <th></th>\n",
       "      <th></th>\n",
       "      <th></th>\n",
       "      <th></th>\n",
       "      <th></th>\n",
       "    </tr>\n",
       "  </thead>\n",
       "  <tbody>\n",
       "    <tr>\n",
       "      <th>0</th>\n",
       "      <td>2.838363</td>\n",
       "      <td>146.725693</td>\n",
       "      <td>2.559733</td>\n",
       "      <td>2.222483</td>\n",
       "      <td>1.613406</td>\n",
       "      <td>0.798541</td>\n",
       "      <td>1143.810669</td>\n",
       "      <td>3578.460938</td>\n",
       "      <td>364.966248</td>\n",
       "      <td>49.456593</td>\n",
       "      <td>8.148638</td>\n",
       "    </tr>\n",
       "    <tr>\n",
       "      <th>1</th>\n",
       "      <td>3.199923</td>\n",
       "      <td>156.950882</td>\n",
       "      <td>2.339601</td>\n",
       "      <td>2.281274</td>\n",
       "      <td>1.595932</td>\n",
       "      <td>0.713354</td>\n",
       "      <td>1267.761719</td>\n",
       "      <td>4882.287109</td>\n",
       "      <td>372.097473</td>\n",
       "      <td>65.229088</td>\n",
       "      <td>8.536564</td>\n",
       "    </tr>\n",
       "  </tbody>\n",
       "</table>\n",
       "</div>"
      ],
      "text/plain": [
       "               city        area     rooms  bathroom  parking_spaces    animal  \\\n",
       "furniture                                                                       \n",
       "0          2.838363  146.725693  2.559733  2.222483        1.613406  0.798541   \n",
       "1          3.199923  156.950882  2.339601  2.281274        1.595932  0.713354   \n",
       "\n",
       "               hoa_brl  rent_amount_brl  property_tax_brl  fire_insurance_brl  \\\n",
       "furniture                                                                       \n",
       "0          1143.810669      3578.460938        364.966248           49.456593   \n",
       "1          1267.761719      4882.287109        372.097473           65.229088   \n",
       "\n",
       "             target  \n",
       "furniture            \n",
       "0          8.148638  \n",
       "1          8.536564  "
      ]
     },
     "execution_count": 17,
     "metadata": {},
     "output_type": "execute_result"
    }
   ],
   "source": [
    "df.groupby('furniture').mean()"
   ]
  },
  {
   "cell_type": "code",
   "execution_count": 18,
   "id": "215ace85",
   "metadata": {},
   "outputs": [
    {
     "data": {
      "text/html": [
       "<div>\n",
       "<style scoped>\n",
       "    .dataframe tbody tr th:only-of-type {\n",
       "        vertical-align: middle;\n",
       "    }\n",
       "\n",
       "    .dataframe tbody tr th {\n",
       "        vertical-align: top;\n",
       "    }\n",
       "\n",
       "    .dataframe thead th {\n",
       "        text-align: right;\n",
       "    }\n",
       "</style>\n",
       "<table border=\"1\" class=\"dataframe\">\n",
       "  <thead>\n",
       "    <tr style=\"text-align: right;\">\n",
       "      <th>rooms</th>\n",
       "      <th>1.0</th>\n",
       "      <th>2.0</th>\n",
       "      <th>3.0</th>\n",
       "      <th>4.0</th>\n",
       "      <th>5.0</th>\n",
       "      <th>6.0</th>\n",
       "      <th>7.0</th>\n",
       "      <th>8.0</th>\n",
       "      <th>9.0</th>\n",
       "      <th>10.0</th>\n",
       "      <th>13.0</th>\n",
       "    </tr>\n",
       "    <tr>\n",
       "      <th>city</th>\n",
       "      <th></th>\n",
       "      <th></th>\n",
       "      <th></th>\n",
       "      <th></th>\n",
       "      <th></th>\n",
       "      <th></th>\n",
       "      <th></th>\n",
       "      <th></th>\n",
       "      <th></th>\n",
       "      <th></th>\n",
       "      <th></th>\n",
       "    </tr>\n",
       "  </thead>\n",
       "  <tbody>\n",
       "    <tr>\n",
       "      <th>0.0</th>\n",
       "      <td>7.43</td>\n",
       "      <td>7.46</td>\n",
       "      <td>7.96</td>\n",
       "      <td>8.77</td>\n",
       "      <td>8.98</td>\n",
       "      <td>9.01</td>\n",
       "      <td>9.03</td>\n",
       "      <td>8.88</td>\n",
       "      <td>NaN</td>\n",
       "      <td>8.71</td>\n",
       "      <td>NaN</td>\n",
       "    </tr>\n",
       "    <tr>\n",
       "      <th>1.0</th>\n",
       "      <td>7.36</td>\n",
       "      <td>7.46</td>\n",
       "      <td>8.09</td>\n",
       "      <td>8.69</td>\n",
       "      <td>9.02</td>\n",
       "      <td>8.44</td>\n",
       "      <td>9.01</td>\n",
       "      <td>NaN</td>\n",
       "      <td>NaN</td>\n",
       "      <td>NaN</td>\n",
       "      <td>NaN</td>\n",
       "    </tr>\n",
       "    <tr>\n",
       "      <th>2.0</th>\n",
       "      <td>7.38</td>\n",
       "      <td>7.59</td>\n",
       "      <td>8.20</td>\n",
       "      <td>8.57</td>\n",
       "      <td>8.79</td>\n",
       "      <td>8.68</td>\n",
       "      <td>8.78</td>\n",
       "      <td>9.01</td>\n",
       "      <td>NaN</td>\n",
       "      <td>NaN</td>\n",
       "      <td>NaN</td>\n",
       "    </tr>\n",
       "    <tr>\n",
       "      <th>3.0</th>\n",
       "      <td>7.67</td>\n",
       "      <td>8.00</td>\n",
       "      <td>8.53</td>\n",
       "      <td>9.01</td>\n",
       "      <td>9.19</td>\n",
       "      <td>9.05</td>\n",
       "      <td>9.55</td>\n",
       "      <td>NaN</td>\n",
       "      <td>NaN</td>\n",
       "      <td>NaN</td>\n",
       "      <td>9.67</td>\n",
       "    </tr>\n",
       "    <tr>\n",
       "      <th>4.0</th>\n",
       "      <td>7.86</td>\n",
       "      <td>8.08</td>\n",
       "      <td>8.70</td>\n",
       "      <td>9.21</td>\n",
       "      <td>9.27</td>\n",
       "      <td>9.09</td>\n",
       "      <td>9.10</td>\n",
       "      <td>9.44</td>\n",
       "      <td>9.46</td>\n",
       "      <td>9.27</td>\n",
       "      <td>NaN</td>\n",
       "    </tr>\n",
       "  </tbody>\n",
       "</table>\n",
       "</div>"
      ],
      "text/plain": [
       "rooms  1.0   2.0   3.0   4.0   5.0   6.0   7.0   8.0   9.0   10.0  13.0\n",
       "city                                                                   \n",
       "0.0    7.43  7.46  7.96  8.77  8.98  9.01  9.03  8.88   NaN  8.71   NaN\n",
       "1.0    7.36  7.46  8.09  8.69  9.02  8.44  9.01   NaN   NaN   NaN   NaN\n",
       "2.0    7.38  7.59  8.20  8.57  8.79  8.68  8.78  9.01   NaN   NaN   NaN\n",
       "3.0    7.67  8.00  8.53  9.01  9.19  9.05  9.55   NaN   NaN   NaN  9.67\n",
       "4.0    7.86  8.08  8.70  9.21  9.27  9.09  9.10  9.44  9.46  9.27   NaN"
      ]
     },
     "execution_count": 18,
     "metadata": {},
     "output_type": "execute_result"
    }
   ],
   "source": [
    "df.pivot_table(values='target', index='city', columns='rooms').round(2)"
   ]
  },
  {
   "cell_type": "markdown",
   "id": "3de3c2de",
   "metadata": {},
   "source": [
    "We see that rents increase with increasing number of rooms. <br>\n",
    "City-4 is the most expensive city. then City-3 comes second most expensive city to rent. Others seem comparable."
   ]
  },
  {
   "cell_type": "markdown",
   "id": "731f6e5c",
   "metadata": {},
   "source": [
    "We can leave the animal and furniture categorical variables as they are since they are binary. We need to OHE the city variable."
   ]
  },
  {
   "cell_type": "code",
   "execution_count": 19,
   "id": "b2f5aebf",
   "metadata": {},
   "outputs": [
    {
     "data": {
      "text/plain": [
       "4.0    5887\n",
       "3.0    1501\n",
       "0.0    1258\n",
       "2.0    1193\n",
       "1.0     853\n",
       "Name: city, dtype: int64"
      ]
     },
     "execution_count": 19,
     "metadata": {},
     "output_type": "execute_result"
    }
   ],
   "source": [
    "# see the percentages of city data in whole dataset.\n",
    "df['city'].value_counts()"
   ]
  },
  {
   "cell_type": "code",
   "execution_count": 20,
   "id": "ee44117b",
   "metadata": {},
   "outputs": [],
   "source": [
    "# From Kaggle csv2 file: I inferred:\n",
    "city_num2name = {4: 'Sao Paulo', 3: 'Rio de Janeiro', 0:'Belo Horizonte', 2:'Porto Alegre', 1:'Campinas'}\n",
    "city_name2num = {val:key for key,val in city_num2name.items()}"
   ]
  },
  {
   "cell_type": "code",
   "execution_count": 21,
   "id": "802e4fcd",
   "metadata": {},
   "outputs": [
    {
     "data": {
      "text/plain": [
       "{'Sao Paolo': 4,\n",
       " 'Rio de Janeiro': 3,\n",
       " 'Belo Horizonte': 0,\n",
       " 'Porto Alegre': 2,\n",
       " 'Campinas': 1}"
      ]
     },
     "execution_count": 21,
     "metadata": {},
     "output_type": "execute_result"
    }
   ],
   "source": [
    "city_name2num "
   ]
  },
  {
   "cell_type": "code",
   "execution_count": 22,
   "id": "5536bc2c",
   "metadata": {},
   "outputs": [],
   "source": [
    "df['city'] = df['city'].map(city_num2name)"
   ]
  },
  {
   "cell_type": "code",
   "execution_count": 23,
   "id": "bbff560a",
   "metadata": {},
   "outputs": [
    {
     "data": {
      "image/png": "[encoded data removed]",
      "text/plain": [
       "<Figure size 432x288 with 1 Axes>"
      ]
     },
     "metadata": {
      "needs_background": "light"
     },
     "output_type": "display_data"
    }
   ],
   "source": [
    "sns.barplot(data=df, x='city', y='furniture')\n",
    "plt.show()"
   ]
  },
  {
   "cell_type": "markdown",
   "id": "0e8b3a74",
   "metadata": {},
   "source": [
    "We see that in city-0 (Belo Horizente) and city-1 (Campinas) have lower portion of their houses furnitured. "
   ]
  },
  {
   "cell_type": "code",
   "execution_count": 24,
   "id": "e6c32ec3",
   "metadata": {},
   "outputs": [
    {
     "data": {
      "image/png": "[encoded data removed]",
      "text/plain": [
       "<Figure size 432x288 with 1 Axes>"
      ]
     },
     "metadata": {
      "needs_background": "light"
     },
     "output_type": "display_data"
    }
   ],
   "source": [
    "sns.barplot(data=df, x='city', y='animal')\n",
    "plt.show()"
   ]
  },
  {
   "cell_type": "markdown",
   "id": "b28e4733",
   "metadata": {},
   "source": [
    "Porte Alegre is the most pet-friendly whereas Belo Horizonte has the least tolerance."
   ]
  },
  {
   "cell_type": "code",
   "execution_count": 25,
   "id": "77f16be9",
   "metadata": {},
   "outputs": [
    {
     "data": {
      "text/plain": [
       "area                  0.18\n",
       "rooms                 0.60\n",
       "bathroom              0.71\n",
       "parking_spaces        0.60\n",
       "animal                0.09\n",
       "furniture             0.21\n",
       "hoa_brl               0.15\n",
       "rent_amount_brl       0.87\n",
       "property_tax_brl      0.17\n",
       "fire_insurance_brl    0.85\n",
       "target                1.00\n",
       "dtype: float64"
      ]
     },
     "execution_count": 25,
     "metadata": {},
     "output_type": "execute_result"
    }
   ],
   "source": [
    "df.corrwith(df[\"target\"]).round(2)"
   ]
  },
  {
   "cell_type": "code",
   "execution_count": 26,
   "id": "7af6a3fa",
   "metadata": {},
   "outputs": [
    {
     "data": {
      "text/plain": [
       "<AxesSubplot:>"
      ]
     },
     "execution_count": 26,
     "metadata": {},
     "output_type": "execute_result"
    },
    {
     "data": {
      "image/png": "[encoded data removed]",
      "text/plain": [
       "<Figure size 432x288 with 2 Axes>"
      ]
     },
     "metadata": {
      "needs_background": "light"
     },
     "output_type": "display_data"
    }
   ],
   "source": [
    "sns.heatmap(df.corr() > 0.9)"
   ]
  },
  {
   "cell_type": "code",
   "execution_count": 27,
   "id": "d5c90fa4",
   "metadata": {},
   "outputs": [
    {
     "data": {
      "text/plain": [
       "0.9873431856626529"
      ]
     },
     "execution_count": 27,
     "metadata": {},
     "output_type": "execute_result"
    }
   ],
   "source": [
    "df['rent_amount_brl'].corr(df['fire_insurance_brl'])"
   ]
  },
  {
   "cell_type": "markdown",
   "id": "a298a25d",
   "metadata": {},
   "source": [
    "We can see that rent_amount and fire_insurance are highly correlated, causing multicollinearity. <br>\n",
    "We can remove one or both of them, I prefer to delete `rent_amounth_brl` to prevent multicollinearity. <br>\n",
    "Also, the task is to predict total rent amount, majority of which is this column."
   ]
  },
  {
   "cell_type": "code",
   "execution_count": 28,
   "id": "40a05ae9",
   "metadata": {},
   "outputs": [
    {
     "data": {
      "image/png": "[encoded data removed]",
      "text/plain": [
       "<Figure size 432x288 with 2 Axes>"
      ]
     },
     "metadata": {
      "needs_background": "light"
     },
     "output_type": "display_data"
    }
   ],
   "source": [
    "sns.heatmap(df.corr().round(2))\n",
    "plt.show()"
   ]
  },
  {
   "cell_type": "code",
   "execution_count": 29,
   "id": "f5a2d363",
   "metadata": {},
   "outputs": [],
   "source": [
    "del df['rent_amount_brl']"
   ]
  },
  {
   "cell_type": "markdown",
   "id": "56b1a902",
   "metadata": {},
   "source": [
    "## Training the data"
   ]
  },
  {
   "cell_type": "code",
   "execution_count": 30,
   "id": "49a9d8d7",
   "metadata": {},
   "outputs": [
    {
     "data": {
      "text/plain": [
       "((6414, 11), (2139, 11), (2139, 11))"
      ]
     },
     "execution_count": 30,
     "metadata": {},
     "output_type": "execute_result"
    }
   ],
   "source": [
    "df_full_train, df_test = train_test_split(df, test_size=0.2, random_state=42, stratify=df['city'])\n",
    "df_train, df_val = train_test_split(df_full_train, test_size=0.25, random_state=42, stratify=df_full_train['city'])\n",
    "\n",
    "df_train.shape, df_val.shape, df_test.shape"
   ]
  },
  {
   "cell_type": "code",
   "execution_count": 31,
   "id": "4ad81dda",
   "metadata": {},
   "outputs": [
    {
     "data": {
      "text/plain": [
       "((6414, 10), (2139, 10), (2139, 10))"
      ]
     },
     "execution_count": 31,
     "metadata": {},
     "output_type": "execute_result"
    }
   ],
   "source": [
    "y_train = df_train.pop('target')\n",
    "y_val = df_val.pop('target')\n",
    "y_test = df_test.pop('target')\n",
    "df_train.shape, df_val.shape, df_test.shape"
   ]
  },
  {
   "cell_type": "code",
   "execution_count": 32,
   "id": "f8cf4f0c",
   "metadata": {},
   "outputs": [],
   "source": [
    "# Turn city into 5 columns for 5 cities\n",
    "dv = DictVectorizer(sparse=False)\n",
    "\n",
    "train_dicts = df_train.to_dict(orient='records')\n",
    "X_train = dv.fit_transform(train_dicts)\n",
    "\n",
    "val_dicts = df_val.to_dict(orient='records')\n",
    "test_dicts = df_test.to_dict(orient='records')\n",
    "X_val = dv.transform(val_dicts)\n",
    "X_test = dv.transform(test_dicts)"
   ]
  },
  {
   "cell_type": "code",
   "execution_count": 33,
   "id": "fdbdca74",
   "metadata": {},
   "outputs": [
    {
     "data": {
      "text/plain": [
       "((6414, 14), (2139, 14), (2139, 14))"
      ]
     },
     "execution_count": 33,
     "metadata": {},
     "output_type": "execute_result"
    }
   ],
   "source": [
    "X_train.shape, X_val.shape, X_test.shape"
   ]
  },
  {
   "cell_type": "markdown",
   "id": "523f83ae",
   "metadata": {},
   "source": [
    "### Base model: Linear regression"
   ]
  },
  {
   "cell_type": "code",
   "execution_count": 34,
   "id": "961bb815",
   "metadata": {},
   "outputs": [
    {
     "data": {
      "text/plain": [
       "0.82"
      ]
     },
     "execution_count": 34,
     "metadata": {},
     "output_type": "execute_result"
    }
   ],
   "source": [
    "\n",
    "mm_scaler = MinMaxScaler()\n",
    "model = LinearRegression()\n",
    "\n",
    "X_train_s = mm_scaler.fit_transform(X_train)\n",
    "X_val_s = mm_scaler.transform(X_val)\n",
    "X_test_s = mm_scaler.transform(X_test)\n",
    "\n",
    "model.fit(X_train_s, y_train)\n",
    "\n",
    "model.score(X_train_s, y_train).round(2)"
   ]
  },
  {
   "cell_type": "code",
   "execution_count": 35,
   "id": "042b2b32",
   "metadata": {},
   "outputs": [],
   "source": [
    "feat_importances = {name:val for name, val in zip(dv.get_feature_names_out() , model.coef_)}"
   ]
  },
  {
   "cell_type": "code",
   "execution_count": 36,
   "id": "e3a9c9ef",
   "metadata": {},
   "outputs": [
    {
     "data": {
      "text/plain": [
       "[('hoa_brl', 6.918186694085346),\n",
       " ('fire_insurance_brl', 6.339529942870799),\n",
       " ('property_tax_brl', 2.655099728613789),\n",
       " ('rooms', 0.8567544071234628),\n",
       " ('bathroom', 0.7178296857268301),\n",
       " ('area', -0.6150974899659254),\n",
       " ('furniture', 0.2228065441221755),\n",
       " ('parking_spaces', 0.1986829479209035),\n",
       " ('city=Rio de Janeiro', 0.18714388994013414),\n",
       " ('city=Sao Paolo', 0.16287210414000822),\n",
       " ('city=Porto Alegre', -0.12631085114907886),\n",
       " ('city=Belo Horizonte', -0.12469883297069355),\n",
       " ('city=Campinas', -0.09900630996037443),\n",
       " ('animal', 0.02550746063690118)]"
      ]
     },
     "execution_count": 36,
     "metadata": {},
     "output_type": "execute_result"
    }
   ],
   "source": [
    "sorted(feat_importances.items(), key=lambda x: abs(x[1]), reverse=True)"
   ]
  },
  {
   "cell_type": "markdown",
   "id": "e9c470aa",
   "metadata": {},
   "source": [
    "The Homeowners association tax (`hoa_brl`), `fire_insurance_brl` seems to be dominant factor in linear regression with min-max scaling. The features `property_tax_brl`, `rooms`, `bathroom` and `area`  are the next important features. This may change with scaling method applied, i.e. standard scaler. <br>\n",
    "\n",
    "For this task, robust scaler results in the feature importances order that makes more sense since it is robust to outliers, as shown below. The R2 scores do not change."
   ]
  },
  {
   "cell_type": "code",
   "execution_count": 37,
   "id": "97c1e827",
   "metadata": {},
   "outputs": [
    {
     "data": {
      "text/plain": [
       "[('fire_insurance_brl', 0.4326682156855435),\n",
       " ('furniture', 0.2228065441221761),\n",
       " ('city=Rio de Janeiro', 0.1871438899401353),\n",
       " ('city=Sao Paolo', 0.16287210414000922),\n",
       " ('bathroom', 0.15951770793929448),\n",
       " ('city=Porto Alegre', -0.1263108511490771),\n",
       " ('city=Belo Horizonte', -0.12469883297069313),\n",
       " ('city=Campinas', -0.09900630996037448),\n",
       " ('rooms', 0.09519493412482938),\n",
       " ('parking_spaces', 0.039736589584180755),\n",
       " ('property_tax_brl', 0.031914072129142004),\n",
       " ('animal', 0.025507460636901725),\n",
       " ('hoa_brl', 0.006678186931868904),\n",
       " ('area', -0.0016730481766624866)]"
      ]
     },
     "execution_count": 37,
     "metadata": {},
     "output_type": "execute_result"
    }
   ],
   "source": [
    "rb_scaler = RobustScaler()\n",
    "model = LinearRegression()\n",
    "\n",
    "X_train_s = rb_scaler.fit_transform(X_train)\n",
    "X_val_s = rb_scaler.transform(X_val)\n",
    "X_test_s = rb_scaler.transform(X_test)\n",
    "\n",
    "model.fit(X_train_s, y_train)\n",
    "feat_importances = {name:val for name, val in zip(dv.get_feature_names_out() , model.coef_)}\n",
    "sorted(feat_importances.items(), key=lambda x: abs(x[1]), reverse=True)"
   ]
  },
  {
   "cell_type": "code",
   "execution_count": 38,
   "id": "a51587d4",
   "metadata": {},
   "outputs": [
    {
     "name": "stdout",
     "output_type": "stream",
     "text": [
      "Validation score: 0.37\n",
      "Test score: 0.82\n"
     ]
    }
   ],
   "source": [
    "# For this this simple linear regression is meaningless to split data into train/test/val but still lets see.\n",
    "print(\"Validation score: {:.2f}\".format(model.score(X_val_s, y_val)))\n",
    "print(\"Test score: {:.2f}\".format(model.score(X_test_s, y_test)))"
   ]
  },
  {
   "cell_type": "markdown",
   "id": "3124560b",
   "metadata": {},
   "source": [
    "### XGBoost"
   ]
  },
  {
   "cell_type": "code",
   "execution_count": 39,
   "id": "8324a2b6",
   "metadata": {},
   "outputs": [],
   "source": [
    "import xgboost as xgb"
   ]
  },
  {
   "cell_type": "code",
   "execution_count": 40,
   "id": "fd150eb5",
   "metadata": {},
   "outputs": [],
   "source": [
    "dtrain = xgb.DMatrix(X_train, label=y_train)\n",
    "\n",
    "xgb_params = {\n",
    "    'eta': 0.1, \n",
    "    'max_depth': 3,\n",
    "    'min_child_weight': 1,\n",
    "\n",
    "    'objective': 'reg:squarederror',\n",
    "    'eval_metric': 'rmse',\n",
    "\n",
    "    'nthread': 8,\n",
    "    'seed': 1,\n",
    "    'verbosity': 1,\n",
    "}\n",
    "\n",
    "model = xgb.train(xgb_params, dtrain, num_boost_round=175)"
   ]
  },
  {
   "cell_type": "code",
   "execution_count": 41,
   "id": "df0c8aca",
   "metadata": {},
   "outputs": [
    {
     "data": {
      "text/plain": [
       "0.004304628735925076"
      ]
     },
     "execution_count": 41,
     "metadata": {},
     "output_type": "execute_result"
    }
   ],
   "source": [
    "y_train_pred = model.predict(dtrain)\n",
    "mean_squared_error(y_train, y_train_pred)"
   ]
  },
  {
   "cell_type": "code",
   "execution_count": 42,
   "id": "6e4094f8",
   "metadata": {},
   "outputs": [],
   "source": [
    "dval = xgb.DMatrix(X_val)\n",
    "dtest = xgb.DMatrix(X_test)\n",
    "\n",
    "y_val_pred = model.predict(dval)\n",
    "y_test_pred = model.predict(dtest)"
   ]
  },
  {
   "cell_type": "code",
   "execution_count": 43,
   "id": "d457081b",
   "metadata": {},
   "outputs": [
    {
     "data": {
      "text/plain": [
       "0.007401762046229425"
      ]
     },
     "execution_count": 43,
     "metadata": {},
     "output_type": "execute_result"
    }
   ],
   "source": [
    "mean_squared_error(y_val, y_val_pred)"
   ]
  },
  {
   "cell_type": "code",
   "execution_count": 44,
   "id": "35cede54",
   "metadata": {},
   "outputs": [
    {
     "data": {
      "text/plain": [
       "0.00457727649341731"
      ]
     },
     "execution_count": 44,
     "metadata": {},
     "output_type": "execute_result"
    }
   ],
   "source": [
    "mean_squared_error(y_test, y_test_pred)"
   ]
  },
  {
   "cell_type": "markdown",
   "id": "c9abd0a2",
   "metadata": {},
   "source": [
    "The results look good. For Xgboost, we can optionally remove the `rent_amount_brl` column from data as it contains far too much of the target variable even though target variable is log-1p-transformed."
   ]
  },
  {
   "cell_type": "code",
   "execution_count": 45,
   "id": "e63b3b6a",
   "metadata": {},
   "outputs": [
    {
     "data": {
      "text/plain": [
       "1745.4267340363742"
      ]
     },
     "execution_count": 45,
     "metadata": {},
     "output_type": "execute_result"
    }
   ],
   "source": [
    "# Root mean square error of training for the actual value in BRL\n",
    "np.sqrt(mean_squared_error(np.expm1(y_train_pred), np.expm1(y_train.values)))"
   ]
  },
  {
   "cell_type": "code",
   "execution_count": 46,
   "id": "39150ec0",
   "metadata": {},
   "outputs": [
    {
     "data": {
      "text/plain": [
       "array(['animal', 'area', 'bathroom', 'city=Belo Horizonte',\n",
       "       'city=Campinas', 'city=Porto Alegre', 'city=Rio de Janeiro',\n",
       "       'city=Sao Paolo', 'fire_insurance_brl', 'furniture', 'hoa_brl',\n",
       "       'parking_spaces', 'property_tax_brl', 'rooms'], dtype=object)"
      ]
     },
     "execution_count": 46,
     "metadata": {},
     "output_type": "execute_result"
    }
   ],
   "source": [
    "dv.get_feature_names_out()"
   ]
  },
  {
   "cell_type": "code",
   "execution_count": 47,
   "id": "7c493912",
   "metadata": {},
   "outputs": [],
   "source": [
    "# # it is at index 12.\n",
    "# ind = list(np.arange(0,14))\n",
    "# ind.remove(12)\n",
    "# ind"
   ]
  },
  {
   "cell_type": "code",
   "execution_count": 48,
   "id": "f5cb8f8f",
   "metadata": {},
   "outputs": [],
   "source": [
    "# X_train = X_train[:,ind]\n",
    "# X_test = X_test[:,ind]\n",
    "# X_val = X_val[:,ind]"
   ]
  },
  {
   "cell_type": "code",
   "execution_count": 49,
   "id": "29ca7189",
   "metadata": {},
   "outputs": [],
   "source": [
    "# X_train.shape, X_val.shape, X_test.shape"
   ]
  },
  {
   "cell_type": "code",
   "execution_count": 50,
   "id": "805df7e8",
   "metadata": {},
   "outputs": [
    {
     "name": "stdout",
     "output_type": "stream",
     "text": [
      "Training MSE:\n",
      "0.0043\n"
     ]
    }
   ],
   "source": [
    "dtrain = xgb.DMatrix(X_train, label=y_train)\n",
    "model = xgb.train(xgb_params, dtrain, num_boost_round=175)\n",
    "y_train_pred = model.predict(dtrain)\n",
    "print(\"Training MSE:\")\n",
    "print(mean_squared_error(y_train, y_train_pred).round(4))"
   ]
  },
  {
   "cell_type": "code",
   "execution_count": 51,
   "id": "b0973d66",
   "metadata": {},
   "outputs": [
    {
     "name": "stdout",
     "output_type": "stream",
     "text": [
      "Validation MSE:\n",
      "0.0074\n",
      "Test MSE:\n",
      "0.0046\n"
     ]
    }
   ],
   "source": [
    "dval = xgb.DMatrix(X_val)\n",
    "dtest = xgb.DMatrix(X_test)\n",
    "\n",
    "y_val_pred = model.predict(dval)\n",
    "y_test_pred = model.predict(dtest)\n",
    "\n",
    "print(\"Validation MSE:\")\n",
    "print(mean_squared_error(y_val, y_val_pred).round(4))\n",
    "print(\"Test MSE:\")\n",
    "print(mean_squared_error(y_test, y_test_pred).round(4))"
   ]
  },
  {
   "cell_type": "code",
   "execution_count": 52,
   "id": "15c02c83",
   "metadata": {
    "scrolled": true
   },
   "outputs": [
    {
     "data": {
      "text/plain": [
       "(array([2186.262 , 2266.497 , 6763.6104, ..., 2899.8547, 3816.5825,\n",
       "        3487.8906], dtype=float32),\n",
       " array([2176.000471  , 2387.00028445, 6550.99706123, ..., 3006.99896835,\n",
       "        3840.99845066, 3393.00037704]))"
      ]
     },
     "execution_count": 52,
     "metadata": {},
     "output_type": "execute_result"
    }
   ],
   "source": [
    "np.expm1(y_train_pred), np.expm1(y_train.values)"
   ]
  },
  {
   "cell_type": "code",
   "execution_count": 53,
   "id": "bb769c72",
   "metadata": {},
   "outputs": [],
   "source": [
    "eta_values = [0.05, 0.1, 0.2, 0.3, 0.4, 0.5, 0.7, 1.0]\n",
    "results = []\n",
    "\n",
    "for eta in eta_values:    \n",
    "    xgb_params = {\n",
    "        'eta': eta, \n",
    "        'max_depth': 3,\n",
    "        'min_child_weight': 1,\n",
    "\n",
    "        'objective': 'reg:squarederror',\n",
    "        'eval_metric': 'rmse',\n",
    "\n",
    "        'nthread': 8,\n",
    "        'seed': 1,\n",
    "        'verbosity': 1,\n",
    "    }\n",
    "\n",
    "    model = xgb.train(xgb_params, dtrain, num_boost_round=175)\n",
    "    y_val_pred = model.predict(dval)\n",
    "    results.append(mean_squared_error(y_val, y_val_pred))"
   ]
  },
  {
   "cell_type": "code",
   "execution_count": 54,
   "id": "4c228320",
   "metadata": {},
   "outputs": [
    {
     "data": {
      "image/png": "[encoded data removed]",
      "text/plain": [
       "<Figure size 432x288 with 1 Axes>"
      ]
     },
     "metadata": {
      "needs_background": "light"
     },
     "output_type": "display_data"
    }
   ],
   "source": [
    "plt.plot(eta_values, results)\n",
    "plt.xlabel(\"Eta\")\n",
    "plt.ylabel(\"MSE of Validation\")\n",
    "plt.show()"
   ]
  },
  {
   "cell_type": "code",
   "execution_count": 55,
   "id": "10c1f99c",
   "metadata": {},
   "outputs": [],
   "source": [
    "# Using 'eta' == 0.2 as best value from previous graph\n",
    "\n",
    "results = []\n",
    "max_depth = [2,3,4,5,6,7,8,9,10]\n",
    "\n",
    "for depth in max_depth:    \n",
    "    xgb_params = {\n",
    "        'eta': 0.2, \n",
    "        'max_depth': depth,\n",
    "        'min_child_weight': 1,\n",
    "\n",
    "        'objective': 'reg:squarederror',\n",
    "        'eval_metric': 'rmse',\n",
    "\n",
    "        'nthread': 8,\n",
    "        'seed': 1,\n",
    "        'verbosity': 1,\n",
    "    }\n",
    "\n",
    "    model = xgb.train(xgb_params, dtrain, num_boost_round=175)\n",
    "    y_val_pred = model.predict(dval)\n",
    "    results.append(mean_squared_error(y_val, y_val_pred))"
   ]
  },
  {
   "cell_type": "code",
   "execution_count": 56,
   "id": "1c4dedc9",
   "metadata": {},
   "outputs": [
    {
     "data": {
      "image/png": "[encoded data removed]",
      "text/plain": [
       "<Figure size 432x288 with 1 Axes>"
      ]
     },
     "metadata": {
      "needs_background": "light"
     },
     "output_type": "display_data"
    }
   ],
   "source": [
    "plt.plot(max_depth, results)\n",
    "plt.xlabel(\"Max Depth\")\n",
    "plt.ylabel(\"MSE of Validation\")\n",
    "plt.show()"
   ]
  },
  {
   "cell_type": "code",
   "execution_count": 57,
   "id": "eb60ddc0",
   "metadata": {},
   "outputs": [],
   "source": [
    "# Using 'max_depth' == 7 as best value from previous graph\n",
    "\n",
    "results = []\n",
    "min_child_weights = [1,2,3,4,5,6,7,8,9,10]\n",
    "\n",
    "for mcw in min_child_weights:    \n",
    "    xgb_params = {\n",
    "        'eta': 0.2, \n",
    "        'max_depth': 7,\n",
    "        'min_child_weight': mcw,\n",
    "\n",
    "        'objective': 'reg:squarederror',\n",
    "        'eval_metric': 'rmse',\n",
    "\n",
    "        'nthread': 8,\n",
    "        'seed': 1,\n",
    "        'verbosity': 1,\n",
    "    }\n",
    "\n",
    "    model = xgb.train(xgb_params, dtrain, num_boost_round=175)\n",
    "    y_val_pred = model.predict(dval)\n",
    "    results.append(mean_squared_error(y_val, y_val_pred))"
   ]
  },
  {
   "cell_type": "code",
   "execution_count": 58,
   "id": "42d8ba35",
   "metadata": {},
   "outputs": [
    {
     "data": {
      "image/png": "[encoded data removed]",
      "text/plain": [
       "<Figure size 432x288 with 1 Axes>"
      ]
     },
     "metadata": {
      "needs_background": "light"
     },
     "output_type": "display_data"
    }
   ],
   "source": [
    "plt.plot(min_child_weights, results)\n",
    "plt.xlabel(\"Minimum Child Weight\")\n",
    "plt.ylabel(\"MSE of Validation\")\n",
    "plt.show()"
   ]
  },
  {
   "cell_type": "code",
   "execution_count": 59,
   "id": "813d6c4a",
   "metadata": {},
   "outputs": [],
   "source": [
    "# Using 'min_child_weight' == 1 as best value from previous graph\n",
    "\n",
    "train_results = []\n",
    "val_results = []\n",
    "n_boost_rounds = [30, 50, 70, 100, 125, 150, 175, 200, 225, 250, 300, 350, 400, 450, 500, 600, 700, 800, 900, 1000]\n",
    "\n",
    "xgb_params = {\n",
    "    'eta': 0.2, \n",
    "    'max_depth': 7,\n",
    "    'min_child_weight': 2,\n",
    "\n",
    "    'objective': 'reg:squarederror',\n",
    "    'eval_metric': 'rmse',\n",
    "\n",
    "    'nthread': 8,\n",
    "    'seed': 1,\n",
    "    'verbosity': 1,\n",
    "}\n",
    "\n",
    "for nboost in n_boost_rounds:   \n",
    "    model = xgb.train(xgb_params, dtrain, num_boost_round=nboost)\n",
    "    y_train_pred = model.predict(dtrain)\n",
    "    train_results.append(mean_squared_error(y_train, y_train_pred))\n",
    "    y_val_pred = model.predict(dval)\n",
    "    val_results.append(mean_squared_error(y_val, y_val_pred))"
   ]
  },
  {
   "cell_type": "code",
   "execution_count": 60,
   "id": "3d3bb05d",
   "metadata": {},
   "outputs": [
    {
     "data": {
      "image/png": "[encoded data removed]",
      "text/plain": [
       "<Figure size 432x288 with 1 Axes>"
      ]
     },
     "metadata": {
      "needs_background": "light"
     },
     "output_type": "display_data"
    }
   ],
   "source": [
    "# Lets see when we start to overfit...\n",
    "# plt.plot(n_boost_rounds, train_results, color='g')\n",
    "plt.plot(n_boost_rounds, val_results, color='r')\n",
    "plt.show()"
   ]
  },
  {
   "cell_type": "code",
   "execution_count": 61,
   "id": "2c85ae43",
   "metadata": {},
   "outputs": [
    {
     "name": "stdout",
     "output_type": "stream",
     "text": [
      "250\n"
     ]
    }
   ],
   "source": [
    "# Best value\n",
    "print(n_boost_rounds[np.argmin(val_results)])"
   ]
  },
  {
   "cell_type": "code",
   "execution_count": 62,
   "id": "812021b4",
   "metadata": {},
   "outputs": [],
   "source": [
    "# # Fine tune n_boost.\n",
    "\n",
    "# train_results = []\n",
    "# val_results = []\n",
    "# n_boost_rounds = np.arange(130,171)\n",
    "\n",
    "# xgb_params = {\n",
    "#     'eta': 0.3, \n",
    "#     'max_depth': 4,\n",
    "#     'min_child_weight': 3,\n",
    "\n",
    "#     'objective': 'reg:squarederror',\n",
    "#     'eval_metric': 'rmse',\n",
    "\n",
    "#     'nthread': 8,\n",
    "#     'seed': 1,\n",
    "#     'verbosity': 1,\n",
    "# }\n",
    "\n",
    "# for nboost in n_boost_rounds:   \n",
    "#     model = xgb.train(xgb_params, dtrain, num_boost_round=nboost)\n",
    "#     y_train_pred = model.predict(dtrain)\n",
    "#     train_results.append(mean_squared_error(y_train, y_train_pred))\n",
    "#     y_val_pred = model.predict(dval)\n",
    "#     val_results.append(mean_squared_error(y_val, y_val_pred))"
   ]
  },
  {
   "cell_type": "code",
   "execution_count": 63,
   "id": "133c53af",
   "metadata": {},
   "outputs": [],
   "source": [
    "# # Lets see when we start to overfit...\n",
    "# # plt.plot(n_boost_rounds, train_results, color='g')\n",
    "# plt.plot(n_boost_rounds, val_results, color='r')\n",
    "# plt.show()"
   ]
  },
  {
   "cell_type": "markdown",
   "id": "2d24947e",
   "metadata": {},
   "source": [
    "Now we train on the full train dataset."
   ]
  },
  {
   "cell_type": "code",
   "execution_count": 64,
   "id": "2dcc6081",
   "metadata": {},
   "outputs": [
    {
     "name": "stdout",
     "output_type": "stream",
     "text": [
      "Final Training MSE:\n",
      "0.00027\n",
      "Test MSE:\n",
      "0.00385\n"
     ]
    }
   ],
   "source": [
    "y_full_train = df_full_train.pop('target')\n",
    "df_full_train_dicts = df_full_train.to_dict(orient='records')\n",
    "X_full_train = dv.transform(df_full_train_dicts)\n",
    "\n",
    "dFullTrain = xgb.DMatrix(X_full_train, label=y_full_train)\n",
    "\n",
    "xgb_params = {\n",
    "    'eta': 0.2, \n",
    "    'max_depth': 7,\n",
    "    'min_child_weight': 2,\n",
    "\n",
    "    'objective': 'reg:squarederror',\n",
    "    'eval_metric': 'rmse',\n",
    "\n",
    "    'nthread': 8,\n",
    "    'seed': 1,\n",
    "    'verbosity': 1,\n",
    "}\n",
    " \n",
    "model = xgb.train(xgb_params, dFullTrain, num_boost_round=250)\n",
    "\n",
    "y_full_train_pred = model.predict(dFullTrain)\n",
    "y_test_pred = model.predict(dtest)\n",
    "print(\"Final Training MSE:\")\n",
    "print(mean_squared_error(y_full_train, y_full_train_pred).round(5))\n",
    "print(\"Test MSE:\")\n",
    "print(mean_squared_error(y_test, y_test_pred).round(5))"
   ]
  },
  {
   "cell_type": "markdown",
   "id": "538ad8d4",
   "metadata": {},
   "source": [
    "We can see that we improved the results with model tuning."
   ]
  },
  {
   "cell_type": "code",
   "execution_count": 65,
   "id": "91420e9d",
   "metadata": {},
   "outputs": [],
   "source": [
    "import pickle"
   ]
  },
  {
   "cell_type": "code",
   "execution_count": 66,
   "id": "122ddf11",
   "metadata": {},
   "outputs": [],
   "source": [
    "with open(\"bin/xgboost_brazil_house.bin\", 'wb') as f:\n",
    "    pickle.dump(model, f)"
   ]
  },
  {
   "cell_type": "code",
   "execution_count": 67,
   "id": "d953e0b7",
   "metadata": {},
   "outputs": [],
   "source": [
    "with open(\"bin/dictvec.bin\", 'wb') as f:\n",
    "    pickle.dump(dv, f)"
   ]
  },
  {
   "cell_type": "code",
   "execution_count": 68,
   "id": "8322ca5a",
   "metadata": {},
   "outputs": [],
   "source": [
    "from sklearn.ensemble import RandomForestRegressor"
   ]
  },
  {
   "cell_type": "code",
   "execution_count": 69,
   "id": "717713f1",
   "metadata": {},
   "outputs": [
    {
     "name": "stdout",
     "output_type": "stream",
     "text": [
      "RF Regressor: Training MSE: \n"
     ]
    },
    {
     "data": {
      "text/plain": [
       "0.0062"
      ]
     },
     "execution_count": 69,
     "metadata": {},
     "output_type": "execute_result"
    }
   ],
   "source": [
    "rf_model = RandomForestRegressor(n_estimators=200,\n",
    "                                 max_depth=10,\n",
    "                                 min_samples_leaf=3,\n",
    "                                 random_state=19)\n",
    "\n",
    "rf_model.fit(X_train, y_train)\n",
    "\n",
    "y_train_pred = rf_model.predict(X_train)\n",
    "print(\"RF Regressor: Training MSE: \")\n",
    "mean_squared_error(y_train, y_train_pred).round(4)"
   ]
  },
  {
   "cell_type": "code",
   "execution_count": 70,
   "id": "6b21acf3",
   "metadata": {},
   "outputs": [
    {
     "name": "stdout",
     "output_type": "stream",
     "text": [
      "RF Regressor: Validation MSE: \n"
     ]
    },
    {
     "data": {
      "text/plain": [
       "0.0136"
      ]
     },
     "execution_count": 70,
     "metadata": {},
     "output_type": "execute_result"
    }
   ],
   "source": [
    "y_val_pred = rf_model.predict(X_val)\n",
    "print(\"RF Regressor: Validation MSE: \")\n",
    "mean_squared_error(y_val, y_val_pred).round(4)"
   ]
  },
  {
   "cell_type": "code",
   "execution_count": 71,
   "id": "b240b428",
   "metadata": {},
   "outputs": [
    {
     "name": "stdout",
     "output_type": "stream",
     "text": [
      "RF Regressor: Test MSE: \n"
     ]
    },
    {
     "data": {
      "text/plain": [
       "0.0059"
      ]
     },
     "execution_count": 71,
     "metadata": {},
     "output_type": "execute_result"
    }
   ],
   "source": [
    "y_test_pred = rf_model.predict(X_test)\n",
    "print(\"RF Regressor: Test MSE: \") \n",
    "mean_squared_error(y_test, y_test_pred).round(4)"
   ]
  },
  {
   "cell_type": "code",
   "execution_count": 72,
   "id": "b2cb728c",
   "metadata": {},
   "outputs": [],
   "source": [
    "error_list = []\n",
    "depth_range= np.arange(1,21)\n",
    "for d in depth_range:\n",
    "    rf_model = RandomForestRegressor(n_estimators=200,\n",
    "                                max_depth=d,\n",
    "                                min_samples_leaf=3,\n",
    "                                random_state=19)\n",
    "    rf_model.fit(X_train, y_train)\n",
    "    y_val_pred = rf_model.predict(X_val)\n",
    "    error_list.append(mean_squared_error(y_val, y_val_pred))"
   ]
  },
  {
   "cell_type": "code",
   "execution_count": 73,
   "id": "5cfcb835",
   "metadata": {},
   "outputs": [
    {
     "data": {
      "image/png": "[encoded data removed]",
      "text/plain": [
       "<Figure size 432x288 with 1 Axes>"
      ]
     },
     "metadata": {
      "needs_background": "light"
     },
     "output_type": "display_data"
    }
   ],
   "source": [
    "plt.plot(depth_range, error_list)\n",
    "plt.xlabel(\"Max Depth of Trees\")\n",
    "plt.ylabel(\"MSE of Validation\")\n",
    "plt.ylim([0., 0.03])\n",
    "plt.show()"
   ]
  },
  {
   "cell_type": "code",
   "execution_count": 74,
   "id": "e61e43df",
   "metadata": {},
   "outputs": [
    {
     "data": {
      "text/plain": [
       "16"
      ]
     },
     "execution_count": 74,
     "metadata": {},
     "output_type": "execute_result"
    }
   ],
   "source": [
    "depth_range[np.argmin(error_list)]\n",
    "# I think any value between 10 and 20 gives results close... I will go with lowest (complexity): 10."
   ]
  },
  {
   "cell_type": "code",
   "execution_count": 75,
   "id": "7eddf3a6",
   "metadata": {},
   "outputs": [],
   "source": [
    "error_list = []\n",
    "min_sample_leaves = np.arange(1,21)\n",
    "for msl in min_sample_leaves:\n",
    "    rf_model = RandomForestRegressor(n_estimators=200,\n",
    "                                max_depth=10,\n",
    "                                min_samples_leaf=msl,\n",
    "                                random_state=19)\n",
    "    rf_model.fit(X_train, y_train)\n",
    "    y_val_pred = rf_model.predict(X_val)\n",
    "    error_list.append(mean_squared_error(y_val, y_val_pred))"
   ]
  },
  {
   "cell_type": "code",
   "execution_count": 76,
   "id": "3cfa842f",
   "metadata": {},
   "outputs": [
    {
     "data": {
      "image/png": "[encoded data removed]",
      "text/plain": [
       "<Figure size 432x288 with 1 Axes>"
      ]
     },
     "metadata": {
      "needs_background": "light"
     },
     "output_type": "display_data"
    }
   ],
   "source": [
    "plt.plot(min_sample_leaves, error_list)\n",
    "plt.xlabel(\"Min Samples of Leaf\")\n",
    "plt.ylabel(\"MSE of Validation\")\n",
    "# plt.ylim([0., 0.03])\n",
    "plt.show()"
   ]
  },
  {
   "cell_type": "code",
   "execution_count": 77,
   "id": "3af88199",
   "metadata": {},
   "outputs": [],
   "source": [
    "train_error = []\n",
    "val_error = []\n",
    "n_estimators = np.arange(30,451,30)\n",
    "for N in n_estimators:\n",
    "    rf_model = RandomForestRegressor(n_estimators=N,\n",
    "                                max_depth=10,\n",
    "                                min_samples_leaf=1,\n",
    "                                random_state=19)\n",
    "    rf_model.fit(X_train, y_train)\n",
    "    y_train_pred = rf_model.predict(X_train)\n",
    "    train_error.append(mean_squared_error(y_train, y_train_pred))\n",
    "    y_val_pred = rf_model.predict(X_val)\n",
    "    val_error.append(mean_squared_error(y_val, y_val_pred))"
   ]
  },
  {
   "cell_type": "code",
   "execution_count": 78,
   "id": "66485c57",
   "metadata": {},
   "outputs": [
    {
     "data": {
      "image/png": "[encoded data removed]",
      "text/plain": [
       "<Figure size 432x288 with 1 Axes>"
      ]
     },
     "metadata": {
      "needs_background": "light"
     },
     "output_type": "display_data"
    }
   ],
   "source": [
    "# Lets see when we start to overfit...\n",
    "# plt.plot(n_estimators, train_error, color='g', label='Train')\n",
    "plt.plot(n_estimators, val_error, color='r', label='Validation')\n",
    "plt.xlabel(\"Number of estimators\")\n",
    "plt.ylabel(\"MSE\")\n",
    "plt.legend()\n",
    "plt.show()"
   ]
  },
  {
   "cell_type": "code",
   "execution_count": 79,
   "id": "2ff632e8",
   "metadata": {},
   "outputs": [
    {
     "data": {
      "text/plain": [
       "270"
      ]
     },
     "execution_count": 79,
     "metadata": {},
     "output_type": "execute_result"
    }
   ],
   "source": [
    "n_estimators[np.argmin(val_error)]"
   ]
  },
  {
   "cell_type": "code",
   "execution_count": 80,
   "id": "eb65c9f4",
   "metadata": {},
   "outputs": [
    {
     "name": "stdout",
     "output_type": "stream",
     "text": [
      "Full Train MSE :\n",
      "0.0027\n",
      "Test MSE :\n",
      "0.0047\n"
     ]
    }
   ],
   "source": [
    "rf_model = RandomForestRegressor(n_estimators=270,\n",
    "                            max_depth=10,\n",
    "                            min_samples_leaf=1,\n",
    "                            random_state=19)\n",
    "rf_model.fit(X_full_train, y_full_train)\n",
    "y_full_train_pred = rf_model.predict(X_full_train)\n",
    "print(\"Full Train MSE :\")\n",
    "print(mean_squared_error(y_full_train, y_full_train_pred).round(4))\n",
    "\n",
    "y_test_pred = rf_model.predict(X_test)\n",
    "print(\"Test MSE :\")\n",
    "print(mean_squared_error(y_test, y_test_pred).round(4))"
   ]
  },
  {
   "cell_type": "code",
   "execution_count": 81,
   "id": "91ec9974",
   "metadata": {},
   "outputs": [
    {
     "data": {
      "text/plain": [
       "{'bootstrap': True,\n",
       " 'ccp_alpha': 0.0,\n",
       " 'criterion': 'squared_error',\n",
       " 'max_depth': 10,\n",
       " 'max_features': 1.0,\n",
       " 'max_leaf_nodes': None,\n",
       " 'max_samples': None,\n",
       " 'min_impurity_decrease': 0.0,\n",
       " 'min_samples_leaf': 1,\n",
       " 'min_samples_split': 2,\n",
       " 'min_weight_fraction_leaf': 0.0,\n",
       " 'n_estimators': 270,\n",
       " 'n_jobs': None,\n",
       " 'oob_score': False,\n",
       " 'random_state': 19,\n",
       " 'verbose': 0,\n",
       " 'warm_start': False}"
      ]
     },
     "execution_count": 81,
     "metadata": {},
     "output_type": "execute_result"
    }
   ],
   "source": [
    "rf_model.get_params()"
   ]
  },
  {
   "cell_type": "code",
   "execution_count": 82,
   "id": "f68fbb11",
   "metadata": {},
   "outputs": [],
   "source": [
    "with open(\"bin/sklearn_rf_brazil_house.bin\", 'wb') as f:\n",
    "    pickle.dump(rf_model, f)"
   ]
  }
 ],
 "metadata": {
  "kernelspec": {
   "display_name": "Python 3 (ipykernel)",
   "language": "python",
   "name": "python3"
  },
  "language_info": {
   "codemirror_mode": {
    "name": "ipython",
    "version": 3
   },
   "file_extension": ".py",
   "mimetype": "text/x-python",
   "name": "python",
   "nbconvert_exporter": "python",
   "pygments_lexer": "ipython3",
   "version": "3.9.12"
  }
 },
 "nbformat": 4,
 "nbformat_minor": 5
}
