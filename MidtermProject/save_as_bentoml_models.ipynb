{
 "cells": [
  {
   "cell_type": "markdown",
   "id": "2a8b1531",
   "metadata": {},
   "source": [
    "Save the models as bentoml bento and if you want, you can containerize models with ease. Bentoml makes it easier to manage and run models under varying loads."
   ]
  },
  {
   "cell_type": "code",
   "execution_count": 1,
   "id": "82b62b1b",
   "metadata": {},
   "outputs": [],
   "source": [
    "import bentoml\n",
    "import pickle\n",
    "import xgboost\n",
    "import requests"
   ]
  },
  {
   "cell_type": "code",
   "execution_count": 2,
   "id": "78c7c9dd",
   "metadata": {},
   "outputs": [],
   "source": [
    "with open(\"bin/xgboost_brazil_house.bin\", 'rb') as f_model:\n",
    "    model = pickle.load(f_model)\n",
    "    \n",
    "with open(\"bin/dictvec.bin\",'rb') as dv:\n",
    "    dv = pickle.load(dv)"
   ]
  },
  {
   "cell_type": "code",
   "execution_count": 3,
   "id": "3f5ae74b",
   "metadata": {},
   "outputs": [
    {
     "data": {
      "text/plain": [
       "(xgboost.core.Booster,\n",
       " sklearn.feature_extraction._dict_vectorizer.DictVectorizer)"
      ]
     },
     "execution_count": 3,
     "metadata": {},
     "output_type": "execute_result"
    }
   ],
   "source": [
    "type(model), type(dv)"
   ]
  },
  {
   "cell_type": "code",
   "execution_count": 4,
   "id": "9cf862a7",
   "metadata": {},
   "outputs": [
    {
     "data": {
      "text/plain": [
       "Model(tag=\"xgboost_brazil_house:5v4tpxlacwemime4\", path=\"C:\\Users\\User\\bentoml\\models\\xgboost_brazil_house\\5v4tpxlacwemime4\\\")"
      ]
     },
     "execution_count": 4,
     "metadata": {},
     "output_type": "execute_result"
    }
   ],
   "source": [
    "bentoml.xgboost.save_model(\"xgboost_brazil_house\", model,\n",
    "                          custom_objects={\"dictVec\": dv})"
   ]
  },
  {
   "cell_type": "code",
   "execution_count": 5,
   "id": "e1c9ddee",
   "metadata": {},
   "outputs": [],
   "source": [
    "with open(\"bin/sklearn_rf_brazil_house.bin\", 'rb') as f_model:\n",
    "    model_rf = pickle.load(f_model)"
   ]
  },
  {
   "cell_type": "code",
   "execution_count": 6,
   "id": "3ebe3b2e",
   "metadata": {},
   "outputs": [
    {
     "data": {
      "text/plain": [
       "Model(tag=\"sklearn_rf_brazil_house:6md2se3acweywme4\", path=\"C:\\Users\\User\\bentoml\\models\\sklearn_rf_brazil_house\\6md2se3acweywme4\\\")"
      ]
     },
     "execution_count": 6,
     "metadata": {},
     "output_type": "execute_result"
    }
   ],
   "source": [
    "bentoml.sklearn.save_model(\"sklearn_rf_brazil_house\", model_rf,\n",
    "                          custom_objects={\"dictVec\": dv})"
   ]
  }
 ],
 "metadata": {
  "kernelspec": {
   "display_name": "Python 3 (ipykernel)",
   "language": "python",
   "name": "python3"
  },
  "language_info": {
   "codemirror_mode": {
    "name": "ipython",
    "version": 3
   },
   "file_extension": ".py",
   "mimetype": "text/x-python",
   "name": "python",
   "nbconvert_exporter": "python",
   "pygments_lexer": "ipython3",
   "version": "3.9.12"
  }
 },
 "nbformat": 4,
 "nbformat_minor": 5
}
