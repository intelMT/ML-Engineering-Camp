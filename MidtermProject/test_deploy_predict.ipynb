{
 "cells": [
  {
   "cell_type": "markdown",
   "id": "254cfa51",
   "metadata": {},
   "source": [
    "## This file is here to show testing and validation of online deployment."
   ]
  },
  {
   "cell_type": "code",
   "execution_count": 1,
   "id": "82b62b1b",
   "metadata": {},
   "outputs": [],
   "source": [
    "import requests"
   ]
  },
  {
   "cell_type": "markdown",
   "id": "10654814",
   "metadata": {},
   "source": [
    "You need to set-up the pythonaywhere as described in the `README.md` and change the URL to your apps' URL in the following cell."
   ]
  },
  {
   "cell_type": "code",
   "execution_count": 2,
   "id": "7e404a67",
   "metadata": {},
   "outputs": [],
   "source": [
    "URL = \"https://drmtan.pythonanywhere.com/predict\"\n",
    "\n",
    "# Typo in the real name of the city, Sao Paolo. Do not enter actual name... since model does not recognize it.\n",
    "customer = {\"city\": \"Sao Paulo\", \"area\": 95,\"rooms\": 2,\"bathroom\":1 , \"animal\": 1 ,\"furniture\": 0, \n",
    "            \"parking_spaces\": 1,\"hoa_brl\": 560,\"property_tax_brl\":40 ,\"fire_insurance_brl\":37}\n",
    "\n",
    "response = requests.post(URL, json=customer).json()"
   ]
  },
  {
   "cell_type": "markdown",
   "id": "94d84ed3",
   "metadata": {},
   "source": [
    "Only returning RandomForest prediction as XGBoost was too big to fit in pythonanywhere free account."
   ]
  },
  {
   "cell_type": "code",
   "execution_count": 3,
   "id": "20b91a63",
   "metadata": {},
   "outputs": [
    {
     "name": "stdout",
     "output_type": "stream",
     "text": [
      "The rent prediction based on these features:  3448\n"
     ]
    }
   ],
   "source": [
    "print(\"The rent prediction based on these features: \", response['rent_rf'])"
   ]
  },
  {
   "cell_type": "markdown",
   "id": "38f460d3",
   "metadata": {},
   "source": [
    "We can see that the model runs same as it ran locally."
   ]
  }
 ],
 "metadata": {
  "kernelspec": {
   "display_name": "Python 3 (ipykernel)",
   "language": "python",
   "name": "python3"
  },
  "language_info": {
   "codemirror_mode": {
    "name": "ipython",
    "version": 3
   },
   "file_extension": ".py",
   "mimetype": "text/x-python",
   "name": "python",
   "nbconvert_exporter": "python",
   "pygments_lexer": "ipython3",
   "version": "3.9.12"
  }
 },
 "nbformat": 4,
 "nbformat_minor": 5
}
