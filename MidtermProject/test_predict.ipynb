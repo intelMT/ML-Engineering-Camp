{
 "cells": [
  {
   "cell_type": "code",
   "execution_count": 1,
   "id": "82b62b1b",
   "metadata": {},
   "outputs": [],
   "source": [
    "import requests"
   ]
  },
  {
   "cell_type": "markdown",
   "id": "10654814",
   "metadata": {},
   "source": [
    "## Important\n",
    "First Run `pipenv run python predict.py` in your cli or `pipenv shell` and then `python predict.py` to run the Flask locally and get the results below."
   ]
  },
  {
   "cell_type": "code",
   "execution_count": 2,
   "id": "7e404a67",
   "metadata": {},
   "outputs": [],
   "source": [
    "URL = \"http://localhost:9696/predict\"\n",
    "\n",
    "# Typo in the real name of the city, Sao Paolo. Do not enter actual name... since model does not recognize it.\n",
    "customer = {\"city\": \"Sao Paulo\", \"area\": 95,\"rooms\": 2,\"bathroom\":1 , \"animal\": 1 ,\"furniture\": 0, \n",
    "            \"parking_spaces\": 1,\"hoa_brl\": 560,\"property_tax_brl\":40 ,\"fire_insurance_brl\":37}\n",
    "\n",
    "response = requests.post(URL, json=customer).json()"
   ]
  },
  {
   "cell_type": "code",
   "execution_count": 3,
   "id": "eb0d51e8",
   "metadata": {},
   "outputs": [
    {
     "name": "stdout",
     "output_type": "stream",
     "text": [
      "The rent prediction based on these features:  3391\n"
     ]
    }
   ],
   "source": [
    "print(\"The rent prediction based on these features: \", response['rent_xgb'])"
   ]
  },
  {
   "cell_type": "code",
   "execution_count": 4,
   "id": "20b91a63",
   "metadata": {},
   "outputs": [
    {
     "name": "stdout",
     "output_type": "stream",
     "text": [
      "The rent prediction based on these features:  3448\n"
     ]
    }
   ],
   "source": [
    "print(\"The rent prediction based on these features: \", response['rent_rf'])"
   ]
  },
  {
   "cell_type": "markdown",
   "id": "38f460d3",
   "metadata": {},
   "source": [
    "We can see that the both models run and give close values."
   ]
  }
 ],
 "metadata": {
  "kernelspec": {
   "display_name": "Python 3 (ipykernel)",
   "language": "python",
   "name": "python3"
  },
  "language_info": {
   "codemirror_mode": {
    "name": "ipython",
    "version": 3
   },
   "file_extension": ".py",
   "mimetype": "text/x-python",
   "name": "python",
   "nbconvert_exporter": "python",
   "pygments_lexer": "ipython3",
   "version": "3.9.12"
  }
 },
 "nbformat": 4,
 "nbformat_minor": 5
}
